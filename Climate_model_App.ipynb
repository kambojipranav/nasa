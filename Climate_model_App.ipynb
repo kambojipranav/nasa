{
 "cells": [
  {
   "cell_type": "code",
   "execution_count": 1,
   "id": "00a4f9a8-c8a4-4c93-b121-6809dc33af0f",
   "metadata": {},
   "outputs": [],
   "source": [
    "import pandas as pd"
   ]
  },
  {
   "cell_type": "code",
   "execution_count": 2,
   "id": "93934456-4d1e-4b96-86e7-f1c5ff825a6f",
   "metadata": {},
   "outputs": [],
   "source": [
    "df=pd.read_csv(\"climate_nasa.csv\")"
   ]
  },
  {
   "cell_type": "code",
   "execution_count": 3,
   "id": "9a81fe2f-3d6c-4cd0-98d4-404e3103a002",
   "metadata": {},
   "outputs": [
    {
     "data": {
      "text/html": [
       "<div>\n",
       "<style scoped>\n",
       "    .dataframe tbody tr th:only-of-type {\n",
       "        vertical-align: middle;\n",
       "    }\n",
       "\n",
       "    .dataframe tbody tr th {\n",
       "        vertical-align: top;\n",
       "    }\n",
       "\n",
       "    .dataframe thead th {\n",
       "        text-align: right;\n",
       "    }\n",
       "</style>\n",
       "<table border=\"1\" class=\"dataframe\">\n",
       "  <thead>\n",
       "    <tr style=\"text-align: right;\">\n",
       "      <th></th>\n",
       "      <th>date</th>\n",
       "      <th>likesCount</th>\n",
       "      <th>profileName</th>\n",
       "      <th>commentsCount</th>\n",
       "      <th>text</th>\n",
       "    </tr>\n",
       "  </thead>\n",
       "  <tbody>\n",
       "    <tr>\n",
       "      <th>0</th>\n",
       "      <td>2022-09-07T17:12:32.000Z</td>\n",
       "      <td>2</td>\n",
       "      <td>4dca617d86b3fdce80ba7e81fb16e048c9cd9798cdfd6d...</td>\n",
       "      <td>NaN</td>\n",
       "      <td>Neat comparison I have not heard it before.\\n ...</td>\n",
       "    </tr>\n",
       "    <tr>\n",
       "      <th>1</th>\n",
       "      <td>2022-09-08T14:51:13.000Z</td>\n",
       "      <td>0</td>\n",
       "      <td>518ab97f2d115ba5b6f03b2fba2ef2b120540c9681288b...</td>\n",
       "      <td>NaN</td>\n",
       "      <td>An excellent way to visualise the invisible! T...</td>\n",
       "    </tr>\n",
       "    <tr>\n",
       "      <th>2</th>\n",
       "      <td>2022-09-07T17:19:41.000Z</td>\n",
       "      <td>1</td>\n",
       "      <td>d82e8e24eb633fd625b0aef9b3cb625cfb044ceb8483e1...</td>\n",
       "      <td>3.0</td>\n",
       "      <td>Does the CO2/ghg in the troposphere affect the...</td>\n",
       "    </tr>\n",
       "    <tr>\n",
       "      <th>3</th>\n",
       "      <td>2022-09-08T00:51:30.000Z</td>\n",
       "      <td>4</td>\n",
       "      <td>37a509fa0b5177a2233c7e2d0e2b2d6916695fa9fba3f2...</td>\n",
       "      <td>NaN</td>\n",
       "      <td>excellent post! I defo feel the difference - o...</td>\n",
       "    </tr>\n",
       "    <tr>\n",
       "      <th>4</th>\n",
       "      <td>2022-09-07T19:06:20.000Z</td>\n",
       "      <td>16</td>\n",
       "      <td>e54fbbd42a729af9d04d9a5cc1f9bbfe8081a31c219ecb...</td>\n",
       "      <td>26.0</td>\n",
       "      <td>Yes, and carbon dioxide does not harm the Eart...</td>\n",
       "    </tr>\n",
       "  </tbody>\n",
       "</table>\n",
       "</div>"
      ],
      "text/plain": [
       "                       date  likesCount  \\\n",
       "0  2022-09-07T17:12:32.000Z           2   \n",
       "1  2022-09-08T14:51:13.000Z           0   \n",
       "2  2022-09-07T17:19:41.000Z           1   \n",
       "3  2022-09-08T00:51:30.000Z           4   \n",
       "4  2022-09-07T19:06:20.000Z          16   \n",
       "\n",
       "                                         profileName  commentsCount  \\\n",
       "0  4dca617d86b3fdce80ba7e81fb16e048c9cd9798cdfd6d...            NaN   \n",
       "1  518ab97f2d115ba5b6f03b2fba2ef2b120540c9681288b...            NaN   \n",
       "2  d82e8e24eb633fd625b0aef9b3cb625cfb044ceb8483e1...            3.0   \n",
       "3  37a509fa0b5177a2233c7e2d0e2b2d6916695fa9fba3f2...            NaN   \n",
       "4  e54fbbd42a729af9d04d9a5cc1f9bbfe8081a31c219ecb...           26.0   \n",
       "\n",
       "                                                text  \n",
       "0  Neat comparison I have not heard it before.\\n ...  \n",
       "1  An excellent way to visualise the invisible! T...  \n",
       "2  Does the CO2/ghg in the troposphere affect the...  \n",
       "3  excellent post! I defo feel the difference - o...  \n",
       "4  Yes, and carbon dioxide does not harm the Eart...  "
      ]
     },
     "execution_count": 3,
     "metadata": {},
     "output_type": "execute_result"
    }
   ],
   "source": [
    "df.head()"
   ]
  },
  {
   "cell_type": "code",
   "execution_count": 4,
   "id": "72f5989e-d0a5-49a1-a58b-1302e0f84626",
   "metadata": {},
   "outputs": [
    {
     "name": "stdout",
     "output_type": "stream",
     "text": [
      "<class 'pandas.core.frame.DataFrame'>\n",
      "RangeIndex: 522 entries, 0 to 521\n",
      "Data columns (total 5 columns):\n",
      " #   Column         Non-Null Count  Dtype  \n",
      "---  ------         --------------  -----  \n",
      " 0   date           522 non-null    object \n",
      " 1   likesCount     522 non-null    int64  \n",
      " 2   profileName    522 non-null    object \n",
      " 3   commentsCount  244 non-null    float64\n",
      " 4   text           504 non-null    object \n",
      "dtypes: float64(1), int64(1), object(3)\n",
      "memory usage: 20.5+ KB\n"
     ]
    }
   ],
   "source": [
    "df.info()"
   ]
  },
  {
   "cell_type": "code",
   "execution_count": 5,
   "id": "038e79ea-a7f3-4d4a-ba75-940772cc9f51",
   "metadata": {},
   "outputs": [
    {
     "data": {
      "text/plain": [
       "<bound method NDFrame.describe of                          date  likesCount  \\\n",
       "0    2022-09-07T17:12:32.000Z           2   \n",
       "1    2022-09-08T14:51:13.000Z           0   \n",
       "2    2022-09-07T17:19:41.000Z           1   \n",
       "3    2022-09-08T00:51:30.000Z           4   \n",
       "4    2022-09-07T19:06:20.000Z          16   \n",
       "..                        ...         ...   \n",
       "517  2022-12-22T17:21:37.000Z           0   \n",
       "518  2022-12-22T17:19:51.000Z           1   \n",
       "519  2022-12-22T17:12:57.000Z           3   \n",
       "520  2022-12-22T17:01:12.000Z           1   \n",
       "521  2022-12-22T17:00:08.000Z          12   \n",
       "\n",
       "                                           profileName  commentsCount  \\\n",
       "0    4dca617d86b3fdce80ba7e81fb16e048c9cd9798cdfd6d...            NaN   \n",
       "1    518ab97f2d115ba5b6f03b2fba2ef2b120540c9681288b...            NaN   \n",
       "2    d82e8e24eb633fd625b0aef9b3cb625cfb044ceb8483e1...            3.0   \n",
       "3    37a509fa0b5177a2233c7e2d0e2b2d6916695fa9fba3f2...            NaN   \n",
       "4    e54fbbd42a729af9d04d9a5cc1f9bbfe8081a31c219ecb...           26.0   \n",
       "..                                                 ...            ...   \n",
       "517  9e17b1a6422032d47472f0216c73aafda7587e302eed5e...            NaN   \n",
       "518  48e55d898603a136aefc44771f248bffd67242583a462a...            5.0   \n",
       "519  ca5d2611814cf8c9844ed06d9916d876d2dba94dac5ff2...            NaN   \n",
       "520  a87c8aea74c9b97002b368d6143ce9c2809dcaec3103fb...            NaN   \n",
       "521  cc70f6c9dcc2637b1c5fd90046834612627c752b828cb4...            1.0   \n",
       "\n",
       "                                                  text  \n",
       "0    Neat comparison I have not heard it before.\\n ...  \n",
       "1    An excellent way to visualise the invisible! T...  \n",
       "2    Does the CO2/ghg in the troposphere affect the...  \n",
       "3    excellent post! I defo feel the difference - o...  \n",
       "4    Yes, and carbon dioxide does not harm the Eart...  \n",
       "..                                                 ...  \n",
       "517                     One can only hope for a peak 😞  \n",
       "518  what is the error margin for the temperature e...  \n",
       "519  We all should volenteerly help in reducing Glo...  \n",
       "520                                       Sergio Yepes  \n",
       "521  We're experiencing severe, abnormal weather pa...  \n",
       "\n",
       "[522 rows x 5 columns]>"
      ]
     },
     "execution_count": 5,
     "metadata": {},
     "output_type": "execute_result"
    }
   ],
   "source": [
    "df.describe"
   ]
  },
  {
   "cell_type": "code",
   "execution_count": 6,
   "id": "2231a545-aa18-44ad-92d9-0981e8aa2f89",
   "metadata": {},
   "outputs": [
    {
     "data": {
      "text/html": [
       "<div>\n",
       "<style scoped>\n",
       "    .dataframe tbody tr th:only-of-type {\n",
       "        vertical-align: middle;\n",
       "    }\n",
       "\n",
       "    .dataframe tbody tr th {\n",
       "        vertical-align: top;\n",
       "    }\n",
       "\n",
       "    .dataframe thead th {\n",
       "        text-align: right;\n",
       "    }\n",
       "</style>\n",
       "<table border=\"1\" class=\"dataframe\">\n",
       "  <thead>\n",
       "    <tr style=\"text-align: right;\">\n",
       "      <th></th>\n",
       "      <th>count</th>\n",
       "      <th>mean</th>\n",
       "      <th>std</th>\n",
       "      <th>min</th>\n",
       "      <th>25%</th>\n",
       "      <th>50%</th>\n",
       "      <th>75%</th>\n",
       "      <th>max</th>\n",
       "    </tr>\n",
       "  </thead>\n",
       "  <tbody>\n",
       "    <tr>\n",
       "      <th>likesCount</th>\n",
       "      <td>522.0</td>\n",
       "      <td>4.720307</td>\n",
       "      <td>12.053556</td>\n",
       "      <td>0.0</td>\n",
       "      <td>0.0</td>\n",
       "      <td>1.0</td>\n",
       "      <td>4.0</td>\n",
       "      <td>126.0</td>\n",
       "    </tr>\n",
       "    <tr>\n",
       "      <th>commentsCount</th>\n",
       "      <td>244.0</td>\n",
       "      <td>8.696721</td>\n",
       "      <td>12.266176</td>\n",
       "      <td>1.0</td>\n",
       "      <td>2.0</td>\n",
       "      <td>5.0</td>\n",
       "      <td>10.0</td>\n",
       "      <td>93.0</td>\n",
       "    </tr>\n",
       "  </tbody>\n",
       "</table>\n",
       "</div>"
      ],
      "text/plain": [
       "               count      mean        std  min  25%  50%   75%    max\n",
       "likesCount     522.0  4.720307  12.053556  0.0  0.0  1.0   4.0  126.0\n",
       "commentsCount  244.0  8.696721  12.266176  1.0  2.0  5.0  10.0   93.0"
      ]
     },
     "execution_count": 6,
     "metadata": {},
     "output_type": "execute_result"
    }
   ],
   "source": [
    "df.describe().T"
   ]
  },
  {
   "cell_type": "code",
   "execution_count": 7,
   "id": "cd3ca4f8-1d51-41f8-a0d1-44fecdd8cad2",
   "metadata": {},
   "outputs": [
    {
     "data": {
      "text/plain": [
       "(522, 5)"
      ]
     },
     "execution_count": 7,
     "metadata": {},
     "output_type": "execute_result"
    }
   ],
   "source": [
    "df.shape"
   ]
  },
  {
   "cell_type": "code",
   "execution_count": 8,
   "id": "0e079c63-9589-45c2-87fa-4b4125b1a42f",
   "metadata": {},
   "outputs": [
    {
     "data": {
      "text/plain": [
       "<bound method DataFrame.info of                          date  likesCount  \\\n",
       "0    2022-09-07T17:12:32.000Z           2   \n",
       "1    2022-09-08T14:51:13.000Z           0   \n",
       "2    2022-09-07T17:19:41.000Z           1   \n",
       "3    2022-09-08T00:51:30.000Z           4   \n",
       "4    2022-09-07T19:06:20.000Z          16   \n",
       "..                        ...         ...   \n",
       "517  2022-12-22T17:21:37.000Z           0   \n",
       "518  2022-12-22T17:19:51.000Z           1   \n",
       "519  2022-12-22T17:12:57.000Z           3   \n",
       "520  2022-12-22T17:01:12.000Z           1   \n",
       "521  2022-12-22T17:00:08.000Z          12   \n",
       "\n",
       "                                           profileName  commentsCount  \\\n",
       "0    4dca617d86b3fdce80ba7e81fb16e048c9cd9798cdfd6d...            NaN   \n",
       "1    518ab97f2d115ba5b6f03b2fba2ef2b120540c9681288b...            NaN   \n",
       "2    d82e8e24eb633fd625b0aef9b3cb625cfb044ceb8483e1...            3.0   \n",
       "3    37a509fa0b5177a2233c7e2d0e2b2d6916695fa9fba3f2...            NaN   \n",
       "4    e54fbbd42a729af9d04d9a5cc1f9bbfe8081a31c219ecb...           26.0   \n",
       "..                                                 ...            ...   \n",
       "517  9e17b1a6422032d47472f0216c73aafda7587e302eed5e...            NaN   \n",
       "518  48e55d898603a136aefc44771f248bffd67242583a462a...            5.0   \n",
       "519  ca5d2611814cf8c9844ed06d9916d876d2dba94dac5ff2...            NaN   \n",
       "520  a87c8aea74c9b97002b368d6143ce9c2809dcaec3103fb...            NaN   \n",
       "521  cc70f6c9dcc2637b1c5fd90046834612627c752b828cb4...            1.0   \n",
       "\n",
       "                                                  text  \n",
       "0    Neat comparison I have not heard it before.\\n ...  \n",
       "1    An excellent way to visualise the invisible! T...  \n",
       "2    Does the CO2/ghg in the troposphere affect the...  \n",
       "3    excellent post! I defo feel the difference - o...  \n",
       "4    Yes, and carbon dioxide does not harm the Eart...  \n",
       "..                                                 ...  \n",
       "517                     One can only hope for a peak 😞  \n",
       "518  what is the error margin for the temperature e...  \n",
       "519  We all should volenteerly help in reducing Glo...  \n",
       "520                                       Sergio Yepes  \n",
       "521  We're experiencing severe, abnormal weather pa...  \n",
       "\n",
       "[522 rows x 5 columns]>"
      ]
     },
     "execution_count": 8,
     "metadata": {},
     "output_type": "execute_result"
    }
   ],
   "source": [
    "df.info"
   ]
  },
  {
   "cell_type": "code",
   "execution_count": 9,
   "id": "03251846-76c3-41e8-b8ed-c8b53cbf2622",
   "metadata": {},
   "outputs": [
    {
     "data": {
      "text/html": [
       "<div>\n",
       "<style scoped>\n",
       "    .dataframe tbody tr th:only-of-type {\n",
       "        vertical-align: middle;\n",
       "    }\n",
       "\n",
       "    .dataframe tbody tr th {\n",
       "        vertical-align: top;\n",
       "    }\n",
       "\n",
       "    .dataframe thead th {\n",
       "        text-align: right;\n",
       "    }\n",
       "</style>\n",
       "<table border=\"1\" class=\"dataframe\">\n",
       "  <thead>\n",
       "    <tr style=\"text-align: right;\">\n",
       "      <th></th>\n",
       "      <th>likesCount</th>\n",
       "      <th>commentsCount</th>\n",
       "    </tr>\n",
       "  </thead>\n",
       "  <tbody>\n",
       "    <tr>\n",
       "      <th>count</th>\n",
       "      <td>522.000000</td>\n",
       "      <td>244.000000</td>\n",
       "    </tr>\n",
       "    <tr>\n",
       "      <th>mean</th>\n",
       "      <td>4.720307</td>\n",
       "      <td>8.696721</td>\n",
       "    </tr>\n",
       "    <tr>\n",
       "      <th>std</th>\n",
       "      <td>12.053556</td>\n",
       "      <td>12.266176</td>\n",
       "    </tr>\n",
       "    <tr>\n",
       "      <th>min</th>\n",
       "      <td>0.000000</td>\n",
       "      <td>1.000000</td>\n",
       "    </tr>\n",
       "    <tr>\n",
       "      <th>25%</th>\n",
       "      <td>0.000000</td>\n",
       "      <td>2.000000</td>\n",
       "    </tr>\n",
       "    <tr>\n",
       "      <th>50%</th>\n",
       "      <td>1.000000</td>\n",
       "      <td>5.000000</td>\n",
       "    </tr>\n",
       "    <tr>\n",
       "      <th>75%</th>\n",
       "      <td>4.000000</td>\n",
       "      <td>10.000000</td>\n",
       "    </tr>\n",
       "    <tr>\n",
       "      <th>max</th>\n",
       "      <td>126.000000</td>\n",
       "      <td>93.000000</td>\n",
       "    </tr>\n",
       "  </tbody>\n",
       "</table>\n",
       "</div>"
      ],
      "text/plain": [
       "       likesCount  commentsCount\n",
       "count  522.000000     244.000000\n",
       "mean     4.720307       8.696721\n",
       "std     12.053556      12.266176\n",
       "min      0.000000       1.000000\n",
       "25%      0.000000       2.000000\n",
       "50%      1.000000       5.000000\n",
       "75%      4.000000      10.000000\n",
       "max    126.000000      93.000000"
      ]
     },
     "execution_count": 9,
     "metadata": {},
     "output_type": "execute_result"
    }
   ],
   "source": [
    "df.describe()"
   ]
  },
  {
   "cell_type": "code",
   "execution_count": 10,
   "id": "c45147c9-8a6c-4b60-886f-106f0a3da489",
   "metadata": {},
   "outputs": [
    {
     "name": "stdout",
     "output_type": "stream",
     "text": [
      "<class 'pandas.core.frame.DataFrame'>\n",
      "RangeIndex: 522 entries, 0 to 521\n",
      "Data columns (total 5 columns):\n",
      " #   Column         Non-Null Count  Dtype  \n",
      "---  ------         --------------  -----  \n",
      " 0   date           522 non-null    object \n",
      " 1   likesCount     522 non-null    int64  \n",
      " 2   profileName    522 non-null    object \n",
      " 3   commentsCount  244 non-null    float64\n",
      " 4   text           504 non-null    object \n",
      "dtypes: float64(1), int64(1), object(3)\n",
      "memory usage: 20.5+ KB\n"
     ]
    }
   ],
   "source": [
    "df.info()"
   ]
  },
  {
   "cell_type": "code",
   "execution_count": 12,
   "id": "6d03123c-4fc8-44a3-a2a5-28a2eda38a13",
   "metadata": {},
   "outputs": [
    {
     "name": "stderr",
     "output_type": "stream",
     "text": [
      "Device set to use cpu\n"
     ]
    }
   ],
   "source": [
    "from transformers import AutoTokenizer, AutoModelForSequenceClassification, pipeline\n",
    "\n",
    "# Clean text\n",
    "import re\n",
    "df['clean_text'] = df['text'].astype(str).apply(lambda x: re.sub(r'[^A-Za-z\\s]', '', x.lower()))\n",
    "\n",
    "# Load transformer model\n",
    "model_name = \"cardiffnlp/twitter-roberta-base-sentiment\"\n",
    "tokenizer = AutoTokenizer.from_pretrained(model_name)\n",
    "model = AutoModelForSequenceClassification.from_pretrained(model_name)\n",
    "\n",
    "# Create sentiment pipeline\n",
    "sentiment_pipe = pipeline(\"sentiment-analysis\", model=model, tokenizer=tokenizer)\n",
    "\n",
    "# Apply sentiment analysis (only first 512 tokens per comment)\n",
    "df['transformer_sentiment'] = df['clean_text'].apply(lambda x: sentiment_pipe(x[:512])[0]['label'])\n",
    "\n",
    "# Save output\n",
    "df.to_csv(\"nasa_sentiment_output.csv\", index=False)\n"
   ]
  },
  {
   "cell_type": "code",
   "execution_count": 15,
   "id": "a0afa03c-850c-4062-9ad2-f03b086db9f4",
   "metadata": {},
   "outputs": [],
   "source": [
    "#Type 2"
   ]
  },
  {
   "cell_type": "code",
   "execution_count": 11,
   "id": "a9355eb3-97ad-4ebe-9147-5e04c2ddab51",
   "metadata": {},
   "outputs": [
    {
     "name": "stdout",
     "output_type": "stream",
     "text": [
      "WARNING:tensorflow:From D:\\XAI\\lib\\site-packages\\tf_keras\\src\\losses.py:2976: The name tf.losses.sparse_softmax_cross_entropy is deprecated. Please use tf.compat.v1.losses.sparse_softmax_cross_entropy instead.\n",
      "\n"
     ]
    },
    {
     "name": "stderr",
     "output_type": "stream",
     "text": [
      "2025-07-04 00:48:07,329 - BERTopic - Embedding - Transforming documents to embeddings.\n"
     ]
    },
    {
     "data": {
      "application/vnd.jupyter.widget-view+json": {
       "model_id": "319d733634a4494eba47f312c4694091",
       "version_major": 2,
       "version_minor": 0
      },
      "text/plain": [
       "modules.json:   0%|          | 0.00/349 [00:00<?, ?B/s]"
      ]
     },
     "metadata": {},
     "output_type": "display_data"
    },
    {
     "data": {
      "application/vnd.jupyter.widget-view+json": {
       "model_id": "35a14f9e281d419cadcbedfce107370e",
       "version_major": 2,
       "version_minor": 0
      },
      "text/plain": [
       "config_sentence_transformers.json:   0%|          | 0.00/116 [00:00<?, ?B/s]"
      ]
     },
     "metadata": {},
     "output_type": "display_data"
    },
    {
     "data": {
      "application/vnd.jupyter.widget-view+json": {
       "model_id": "5993f69653d340f28f00eae5569a0015",
       "version_major": 2,
       "version_minor": 0
      },
      "text/plain": [
       "README.md: 0.00B [00:00, ?B/s]"
      ]
     },
     "metadata": {},
     "output_type": "display_data"
    },
    {
     "data": {
      "application/vnd.jupyter.widget-view+json": {
       "model_id": "1dd343558ffd48dc88caa388ac6bdf75",
       "version_major": 2,
       "version_minor": 0
      },
      "text/plain": [
       "sentence_bert_config.json:   0%|          | 0.00/53.0 [00:00<?, ?B/s]"
      ]
     },
     "metadata": {},
     "output_type": "display_data"
    },
    {
     "data": {
      "application/vnd.jupyter.widget-view+json": {
       "model_id": "2c7e6e8df7fe4317a661b560422a72dc",
       "version_major": 2,
       "version_minor": 0
      },
      "text/plain": [
       "config.json:   0%|          | 0.00/612 [00:00<?, ?B/s]"
      ]
     },
     "metadata": {},
     "output_type": "display_data"
    },
    {
     "name": "stderr",
     "output_type": "stream",
     "text": [
      "Xet Storage is enabled for this repo, but the 'hf_xet' package is not installed. Falling back to regular HTTP download. For better performance, install the package with: `pip install huggingface_hub[hf_xet]` or `pip install hf_xet`\n"
     ]
    },
    {
     "data": {
      "application/vnd.jupyter.widget-view+json": {
       "model_id": "8f1de3a342af430c8c2f77bcb4e45811",
       "version_major": 2,
       "version_minor": 0
      },
      "text/plain": [
       "model.safetensors:   0%|          | 0.00/90.9M [00:00<?, ?B/s]"
      ]
     },
     "metadata": {},
     "output_type": "display_data"
    },
    {
     "data": {
      "application/vnd.jupyter.widget-view+json": {
       "model_id": "2eac0063c6134bcf9e979a52eb93b21c",
       "version_major": 2,
       "version_minor": 0
      },
      "text/plain": [
       "tokenizer_config.json:   0%|          | 0.00/350 [00:00<?, ?B/s]"
      ]
     },
     "metadata": {},
     "output_type": "display_data"
    },
    {
     "data": {
      "application/vnd.jupyter.widget-view+json": {
       "model_id": "dd5c81f371b04dd8a3df200670330363",
       "version_major": 2,
       "version_minor": 0
      },
      "text/plain": [
       "vocab.txt: 0.00B [00:00, ?B/s]"
      ]
     },
     "metadata": {},
     "output_type": "display_data"
    },
    {
     "data": {
      "application/vnd.jupyter.widget-view+json": {
       "model_id": "9736f68175a64e5da2427905f3a46aa5",
       "version_major": 2,
       "version_minor": 0
      },
      "text/plain": [
       "tokenizer.json: 0.00B [00:00, ?B/s]"
      ]
     },
     "metadata": {},
     "output_type": "display_data"
    },
    {
     "data": {
      "application/vnd.jupyter.widget-view+json": {
       "model_id": "359c7ff650f5482c968c6c4c3ddcf9ea",
       "version_major": 2,
       "version_minor": 0
      },
      "text/plain": [
       "special_tokens_map.json:   0%|          | 0.00/112 [00:00<?, ?B/s]"
      ]
     },
     "metadata": {},
     "output_type": "display_data"
    },
    {
     "data": {
      "application/vnd.jupyter.widget-view+json": {
       "model_id": "2dc76da208bf44db89b1a11115eaef18",
       "version_major": 2,
       "version_minor": 0
      },
      "text/plain": [
       "config.json:   0%|          | 0.00/190 [00:00<?, ?B/s]"
      ]
     },
     "metadata": {},
     "output_type": "display_data"
    },
    {
     "data": {
      "application/vnd.jupyter.widget-view+json": {
       "model_id": "1ccf6ffe72ba4298ad16046da6e508d7",
       "version_major": 2,
       "version_minor": 0
      },
      "text/plain": [
       "Batches:   0%|          | 0/17 [00:00<?, ?it/s]"
      ]
     },
     "metadata": {},
     "output_type": "display_data"
    },
    {
     "name": "stderr",
     "output_type": "stream",
     "text": [
      "2025-07-04 00:48:41,996 - BERTopic - Embedding - Completed ✓\n",
      "2025-07-04 00:48:41,996 - BERTopic - Dimensionality - Fitting the dimensionality reduction algorithm\n",
      "2025-07-04 00:48:54,924 - BERTopic - Dimensionality - Completed ✓\n",
      "2025-07-04 00:48:54,940 - BERTopic - Cluster - Start clustering the reduced embeddings\n",
      "2025-07-04 00:48:54,984 - BERTopic - Cluster - Completed ✓\n",
      "2025-07-04 00:48:54,996 - BERTopic - Representation - Fine-tuning topics using representation models.\n",
      "2025-07-04 00:48:55,050 - BERTopic - Representation - Completed ✓\n"
     ]
    },
    {
     "name": "stdout",
     "output_type": "stream",
     "text": [
      "   Topic  Count                              Name  \\\n",
      "0     -1      3  -1_loess_spelled_mendozaa_heiker   \n",
      "1      0    420                   0_the_to_of_and   \n",
      "2      1     36           1_bs_thanks_ord_sharing   \n",
      "3      2     19       2_silva_andy_schulz_edgardo   \n",
      "4      3     19                 3_nan_hc_genesis_   \n",
      "\n",
      "                                      Representation  \\\n",
      "0  [loess, spelled, mendozaa, heiker, heavy, amer...   \n",
      "1      [the, to, of, and, is, in, that, we, it, are]   \n",
      "2  [bs, thanks, ord, sharing, jusst, jess, oooooo...   \n",
      "3  [silva, andy, schulz, edgardo, meziah, kevin, ...   \n",
      "4                   [nan, hc, genesis, , , , , , , ]   \n",
      "\n",
      "                                 Representative_Docs  \n",
      "0  [heavy rain heiker mendozaa, link doesnt seem ...  \n",
      "1  [you are being gaslighted have any of you hear...  \n",
      "2        [bs, bs, re ord being from  somethinglolol]  \n",
      "3  [ruth crowl frank bulbeck wow, john kerry to t...  \n",
      "4                                    [nan, nan, nan]  \n",
      "[('the', 0.07382461807621571), ('to', 0.05384421405875811), ('of', 0.04706247585480602), ('and', 0.045099169980604335), ('is', 0.04223838341612306), ('in', 0.0399979024496858), ('that', 0.03274813140227354), ('we', 0.03174184299197558), ('it', 0.027874959033235794), ('are', 0.026409748253243354)]\n"
     ]
    },
    {
     "data": {
      "application/vnd.plotly.v1+json": {
       "config": {
        "plotlyServerURL": "https://plot.ly"
       },
       "data": [
        {
         "customdata": [
          [
           0,
           "the | to | of | and | is",
           420
          ],
          [
           1,
           "bs | thanks | ord | sharing | jusst",
           36
          ],
          [
           2,
           "silva | andy | schulz | edgardo | meziah",
           19
          ],
          [
           3,
           "nan | hc | genesis |  | ",
           19
          ],
          [
           4,
           "de | anos | que | temperaturas | no",
           18
          ],
          [
           5,
           "httpswwwfacebookcomreel | joe | httpsscitechdailycomdeadwoodreleasinggigatonsofcarboneveryyearmorethanallfossilfuelemissionscombined | figured | factvxrayy",
           7
          ]
         ],
         "hovertemplate": "<b>Topic %{customdata[0]}</b><br>%{customdata[1]}<br>Size: %{customdata[2]}",
         "legendgroup": "",
         "marker": {
          "color": "#B0BEC5",
          "line": {
           "color": "DarkSlateGrey",
           "width": 2
          },
          "size": {
           "bdata": "pAEkABMAEwASAAcA",
           "dtype": "i2"
          },
          "sizemode": "area",
          "sizeref": 0.2625,
          "symbol": "circle"
         },
         "mode": "markers",
         "name": "",
         "orientation": "v",
         "showlegend": false,
         "type": "scatter",
         "x": {
          "bdata": "RVz0QHVXv0C4LcBAH3mvQA61oUBbWuNA",
          "dtype": "f4"
         },
         "xaxis": "x",
         "y": {
          "bdata": "d1glQdMfGkHlaCNBQA40QUF5OEE9QB1B",
          "dtype": "f4"
         },
         "yaxis": "y"
        }
       ],
       "layout": {
        "annotations": [
         {
          "showarrow": false,
          "text": "D1",
          "x": 4.295348691940307,
          "y": 10.72344880104065,
          "yshift": 10
         },
         {
          "showarrow": false,
          "text": "D2",
          "x": 6.538525784015656,
          "xshift": 10,
          "y": 13.259043455123901
         }
        ],
        "height": 650,
        "hoverlabel": {
         "bgcolor": "white",
         "font": {
          "family": "Rockwell",
          "size": 16
         }
        },
        "legend": {
         "itemsizing": "constant",
         "tracegroupgap": 0
        },
        "margin": {
         "t": 60
        },
        "shapes": [
         {
          "line": {
           "color": "#CFD8DC",
           "width": 2
          },
          "type": "line",
          "x0": 6.538525784015656,
          "x1": 6.538525784015656,
          "y0": 8.187854146957397,
          "y1": 13.259043455123901
         },
         {
          "line": {
           "color": "#9E9E9E",
           "width": 2
          },
          "type": "line",
          "x0": 4.295348691940307,
          "x1": 8.781702876091003,
          "y0": 10.72344880104065,
          "y1": 10.72344880104065
         }
        ],
        "sliders": [
         {
          "active": 0,
          "pad": {
           "t": 50
          },
          "steps": [
           {
            "args": [
             {
              "marker.color": [
               [
                "red",
                "#B0BEC5",
                "#B0BEC5",
                "#B0BEC5",
                "#B0BEC5",
                "#B0BEC5"
               ]
              ]
             }
            ],
            "label": "Topic 0",
            "method": "update"
           },
           {
            "args": [
             {
              "marker.color": [
               [
                "#B0BEC5",
                "red",
                "#B0BEC5",
                "#B0BEC5",
                "#B0BEC5",
                "#B0BEC5"
               ]
              ]
             }
            ],
            "label": "Topic 1",
            "method": "update"
           },
           {
            "args": [
             {
              "marker.color": [
               [
                "#B0BEC5",
                "#B0BEC5",
                "red",
                "#B0BEC5",
                "#B0BEC5",
                "#B0BEC5"
               ]
              ]
             }
            ],
            "label": "Topic 2",
            "method": "update"
           },
           {
            "args": [
             {
              "marker.color": [
               [
                "#B0BEC5",
                "#B0BEC5",
                "#B0BEC5",
                "red",
                "#B0BEC5",
                "#B0BEC5"
               ]
              ]
             }
            ],
            "label": "Topic 3",
            "method": "update"
           },
           {
            "args": [
             {
              "marker.color": [
               [
                "#B0BEC5",
                "#B0BEC5",
                "#B0BEC5",
                "#B0BEC5",
                "red",
                "#B0BEC5"
               ]
              ]
             }
            ],
            "label": "Topic 4",
            "method": "update"
           },
           {
            "args": [
             {
              "marker.color": [
               [
                "#B0BEC5",
                "#B0BEC5",
                "#B0BEC5",
                "#B0BEC5",
                "#B0BEC5",
                "red"
               ]
              ]
             }
            ],
            "label": "Topic 5",
            "method": "update"
           }
          ]
         }
        ],
        "template": {
         "data": {
          "bar": [
           {
            "error_x": {
             "color": "rgb(36,36,36)"
            },
            "error_y": {
             "color": "rgb(36,36,36)"
            },
            "marker": {
             "line": {
              "color": "white",
              "width": 0.5
             },
             "pattern": {
              "fillmode": "overlay",
              "size": 10,
              "solidity": 0.2
             }
            },
            "type": "bar"
           }
          ],
          "barpolar": [
           {
            "marker": {
             "line": {
              "color": "white",
              "width": 0.5
             },
             "pattern": {
              "fillmode": "overlay",
              "size": 10,
              "solidity": 0.2
             }
            },
            "type": "barpolar"
           }
          ],
          "carpet": [
           {
            "aaxis": {
             "endlinecolor": "rgb(36,36,36)",
             "gridcolor": "white",
             "linecolor": "white",
             "minorgridcolor": "white",
             "startlinecolor": "rgb(36,36,36)"
            },
            "baxis": {
             "endlinecolor": "rgb(36,36,36)",
             "gridcolor": "white",
             "linecolor": "white",
             "minorgridcolor": "white",
             "startlinecolor": "rgb(36,36,36)"
            },
            "type": "carpet"
           }
          ],
          "choropleth": [
           {
            "colorbar": {
             "outlinewidth": 1,
             "tickcolor": "rgb(36,36,36)",
             "ticks": "outside"
            },
            "type": "choropleth"
           }
          ],
          "contour": [
           {
            "colorbar": {
             "outlinewidth": 1,
             "tickcolor": "rgb(36,36,36)",
             "ticks": "outside"
            },
            "colorscale": [
             [
              0,
              "#440154"
             ],
             [
              0.1111111111111111,
              "#482878"
             ],
             [
              0.2222222222222222,
              "#3e4989"
             ],
             [
              0.3333333333333333,
              "#31688e"
             ],
             [
              0.4444444444444444,
              "#26828e"
             ],
             [
              0.5555555555555556,
              "#1f9e89"
             ],
             [
              0.6666666666666666,
              "#35b779"
             ],
             [
              0.7777777777777778,
              "#6ece58"
             ],
             [
              0.8888888888888888,
              "#b5de2b"
             ],
             [
              1,
              "#fde725"
             ]
            ],
            "type": "contour"
           }
          ],
          "contourcarpet": [
           {
            "colorbar": {
             "outlinewidth": 1,
             "tickcolor": "rgb(36,36,36)",
             "ticks": "outside"
            },
            "type": "contourcarpet"
           }
          ],
          "heatmap": [
           {
            "colorbar": {
             "outlinewidth": 1,
             "tickcolor": "rgb(36,36,36)",
             "ticks": "outside"
            },
            "colorscale": [
             [
              0,
              "#440154"
             ],
             [
              0.1111111111111111,
              "#482878"
             ],
             [
              0.2222222222222222,
              "#3e4989"
             ],
             [
              0.3333333333333333,
              "#31688e"
             ],
             [
              0.4444444444444444,
              "#26828e"
             ],
             [
              0.5555555555555556,
              "#1f9e89"
             ],
             [
              0.6666666666666666,
              "#35b779"
             ],
             [
              0.7777777777777778,
              "#6ece58"
             ],
             [
              0.8888888888888888,
              "#b5de2b"
             ],
             [
              1,
              "#fde725"
             ]
            ],
            "type": "heatmap"
           }
          ],
          "histogram": [
           {
            "marker": {
             "line": {
              "color": "white",
              "width": 0.6
             }
            },
            "type": "histogram"
           }
          ],
          "histogram2d": [
           {
            "colorbar": {
             "outlinewidth": 1,
             "tickcolor": "rgb(36,36,36)",
             "ticks": "outside"
            },
            "colorscale": [
             [
              0,
              "#440154"
             ],
             [
              0.1111111111111111,
              "#482878"
             ],
             [
              0.2222222222222222,
              "#3e4989"
             ],
             [
              0.3333333333333333,
              "#31688e"
             ],
             [
              0.4444444444444444,
              "#26828e"
             ],
             [
              0.5555555555555556,
              "#1f9e89"
             ],
             [
              0.6666666666666666,
              "#35b779"
             ],
             [
              0.7777777777777778,
              "#6ece58"
             ],
             [
              0.8888888888888888,
              "#b5de2b"
             ],
             [
              1,
              "#fde725"
             ]
            ],
            "type": "histogram2d"
           }
          ],
          "histogram2dcontour": [
           {
            "colorbar": {
             "outlinewidth": 1,
             "tickcolor": "rgb(36,36,36)",
             "ticks": "outside"
            },
            "colorscale": [
             [
              0,
              "#440154"
             ],
             [
              0.1111111111111111,
              "#482878"
             ],
             [
              0.2222222222222222,
              "#3e4989"
             ],
             [
              0.3333333333333333,
              "#31688e"
             ],
             [
              0.4444444444444444,
              "#26828e"
             ],
             [
              0.5555555555555556,
              "#1f9e89"
             ],
             [
              0.6666666666666666,
              "#35b779"
             ],
             [
              0.7777777777777778,
              "#6ece58"
             ],
             [
              0.8888888888888888,
              "#b5de2b"
             ],
             [
              1,
              "#fde725"
             ]
            ],
            "type": "histogram2dcontour"
           }
          ],
          "mesh3d": [
           {
            "colorbar": {
             "outlinewidth": 1,
             "tickcolor": "rgb(36,36,36)",
             "ticks": "outside"
            },
            "type": "mesh3d"
           }
          ],
          "parcoords": [
           {
            "line": {
             "colorbar": {
              "outlinewidth": 1,
              "tickcolor": "rgb(36,36,36)",
              "ticks": "outside"
             }
            },
            "type": "parcoords"
           }
          ],
          "pie": [
           {
            "automargin": true,
            "type": "pie"
           }
          ],
          "scatter": [
           {
            "fillpattern": {
             "fillmode": "overlay",
             "size": 10,
             "solidity": 0.2
            },
            "type": "scatter"
           }
          ],
          "scatter3d": [
           {
            "line": {
             "colorbar": {
              "outlinewidth": 1,
              "tickcolor": "rgb(36,36,36)",
              "ticks": "outside"
             }
            },
            "marker": {
             "colorbar": {
              "outlinewidth": 1,
              "tickcolor": "rgb(36,36,36)",
              "ticks": "outside"
             }
            },
            "type": "scatter3d"
           }
          ],
          "scattercarpet": [
           {
            "marker": {
             "colorbar": {
              "outlinewidth": 1,
              "tickcolor": "rgb(36,36,36)",
              "ticks": "outside"
             }
            },
            "type": "scattercarpet"
           }
          ],
          "scattergeo": [
           {
            "marker": {
             "colorbar": {
              "outlinewidth": 1,
              "tickcolor": "rgb(36,36,36)",
              "ticks": "outside"
             }
            },
            "type": "scattergeo"
           }
          ],
          "scattergl": [
           {
            "marker": {
             "colorbar": {
              "outlinewidth": 1,
              "tickcolor": "rgb(36,36,36)",
              "ticks": "outside"
             }
            },
            "type": "scattergl"
           }
          ],
          "scattermap": [
           {
            "marker": {
             "colorbar": {
              "outlinewidth": 1,
              "tickcolor": "rgb(36,36,36)",
              "ticks": "outside"
             }
            },
            "type": "scattermap"
           }
          ],
          "scattermapbox": [
           {
            "marker": {
             "colorbar": {
              "outlinewidth": 1,
              "tickcolor": "rgb(36,36,36)",
              "ticks": "outside"
             }
            },
            "type": "scattermapbox"
           }
          ],
          "scatterpolar": [
           {
            "marker": {
             "colorbar": {
              "outlinewidth": 1,
              "tickcolor": "rgb(36,36,36)",
              "ticks": "outside"
             }
            },
            "type": "scatterpolar"
           }
          ],
          "scatterpolargl": [
           {
            "marker": {
             "colorbar": {
              "outlinewidth": 1,
              "tickcolor": "rgb(36,36,36)",
              "ticks": "outside"
             }
            },
            "type": "scatterpolargl"
           }
          ],
          "scatterternary": [
           {
            "marker": {
             "colorbar": {
              "outlinewidth": 1,
              "tickcolor": "rgb(36,36,36)",
              "ticks": "outside"
             }
            },
            "type": "scatterternary"
           }
          ],
          "surface": [
           {
            "colorbar": {
             "outlinewidth": 1,
             "tickcolor": "rgb(36,36,36)",
             "ticks": "outside"
            },
            "colorscale": [
             [
              0,
              "#440154"
             ],
             [
              0.1111111111111111,
              "#482878"
             ],
             [
              0.2222222222222222,
              "#3e4989"
             ],
             [
              0.3333333333333333,
              "#31688e"
             ],
             [
              0.4444444444444444,
              "#26828e"
             ],
             [
              0.5555555555555556,
              "#1f9e89"
             ],
             [
              0.6666666666666666,
              "#35b779"
             ],
             [
              0.7777777777777778,
              "#6ece58"
             ],
             [
              0.8888888888888888,
              "#b5de2b"
             ],
             [
              1,
              "#fde725"
             ]
            ],
            "type": "surface"
           }
          ],
          "table": [
           {
            "cells": {
             "fill": {
              "color": "rgb(237,237,237)"
             },
             "line": {
              "color": "white"
             }
            },
            "header": {
             "fill": {
              "color": "rgb(217,217,217)"
             },
             "line": {
              "color": "white"
             }
            },
            "type": "table"
           }
          ]
         },
         "layout": {
          "annotationdefaults": {
           "arrowhead": 0,
           "arrowwidth": 1
          },
          "autotypenumbers": "strict",
          "coloraxis": {
           "colorbar": {
            "outlinewidth": 1,
            "tickcolor": "rgb(36,36,36)",
            "ticks": "outside"
           }
          },
          "colorscale": {
           "diverging": [
            [
             0,
             "rgb(103,0,31)"
            ],
            [
             0.1,
             "rgb(178,24,43)"
            ],
            [
             0.2,
             "rgb(214,96,77)"
            ],
            [
             0.3,
             "rgb(244,165,130)"
            ],
            [
             0.4,
             "rgb(253,219,199)"
            ],
            [
             0.5,
             "rgb(247,247,247)"
            ],
            [
             0.6,
             "rgb(209,229,240)"
            ],
            [
             0.7,
             "rgb(146,197,222)"
            ],
            [
             0.8,
             "rgb(67,147,195)"
            ],
            [
             0.9,
             "rgb(33,102,172)"
            ],
            [
             1,
             "rgb(5,48,97)"
            ]
           ],
           "sequential": [
            [
             0,
             "#440154"
            ],
            [
             0.1111111111111111,
             "#482878"
            ],
            [
             0.2222222222222222,
             "#3e4989"
            ],
            [
             0.3333333333333333,
             "#31688e"
            ],
            [
             0.4444444444444444,
             "#26828e"
            ],
            [
             0.5555555555555556,
             "#1f9e89"
            ],
            [
             0.6666666666666666,
             "#35b779"
            ],
            [
             0.7777777777777778,
             "#6ece58"
            ],
            [
             0.8888888888888888,
             "#b5de2b"
            ],
            [
             1,
             "#fde725"
            ]
           ],
           "sequentialminus": [
            [
             0,
             "#440154"
            ],
            [
             0.1111111111111111,
             "#482878"
            ],
            [
             0.2222222222222222,
             "#3e4989"
            ],
            [
             0.3333333333333333,
             "#31688e"
            ],
            [
             0.4444444444444444,
             "#26828e"
            ],
            [
             0.5555555555555556,
             "#1f9e89"
            ],
            [
             0.6666666666666666,
             "#35b779"
            ],
            [
             0.7777777777777778,
             "#6ece58"
            ],
            [
             0.8888888888888888,
             "#b5de2b"
            ],
            [
             1,
             "#fde725"
            ]
           ]
          },
          "colorway": [
           "#1F77B4",
           "#FF7F0E",
           "#2CA02C",
           "#D62728",
           "#9467BD",
           "#8C564B",
           "#E377C2",
           "#7F7F7F",
           "#BCBD22",
           "#17BECF"
          ],
          "font": {
           "color": "rgb(36,36,36)"
          },
          "geo": {
           "bgcolor": "white",
           "lakecolor": "white",
           "landcolor": "white",
           "showlakes": true,
           "showland": true,
           "subunitcolor": "white"
          },
          "hoverlabel": {
           "align": "left"
          },
          "hovermode": "closest",
          "mapbox": {
           "style": "light"
          },
          "paper_bgcolor": "white",
          "plot_bgcolor": "white",
          "polar": {
           "angularaxis": {
            "gridcolor": "rgb(232,232,232)",
            "linecolor": "rgb(36,36,36)",
            "showgrid": false,
            "showline": true,
            "ticks": "outside"
           },
           "bgcolor": "white",
           "radialaxis": {
            "gridcolor": "rgb(232,232,232)",
            "linecolor": "rgb(36,36,36)",
            "showgrid": false,
            "showline": true,
            "ticks": "outside"
           }
          },
          "scene": {
           "xaxis": {
            "backgroundcolor": "white",
            "gridcolor": "rgb(232,232,232)",
            "gridwidth": 2,
            "linecolor": "rgb(36,36,36)",
            "showbackground": true,
            "showgrid": false,
            "showline": true,
            "ticks": "outside",
            "zeroline": false,
            "zerolinecolor": "rgb(36,36,36)"
           },
           "yaxis": {
            "backgroundcolor": "white",
            "gridcolor": "rgb(232,232,232)",
            "gridwidth": 2,
            "linecolor": "rgb(36,36,36)",
            "showbackground": true,
            "showgrid": false,
            "showline": true,
            "ticks": "outside",
            "zeroline": false,
            "zerolinecolor": "rgb(36,36,36)"
           },
           "zaxis": {
            "backgroundcolor": "white",
            "gridcolor": "rgb(232,232,232)",
            "gridwidth": 2,
            "linecolor": "rgb(36,36,36)",
            "showbackground": true,
            "showgrid": false,
            "showline": true,
            "ticks": "outside",
            "zeroline": false,
            "zerolinecolor": "rgb(36,36,36)"
           }
          },
          "shapedefaults": {
           "fillcolor": "black",
           "line": {
            "width": 0
           },
           "opacity": 0.3
          },
          "ternary": {
           "aaxis": {
            "gridcolor": "rgb(232,232,232)",
            "linecolor": "rgb(36,36,36)",
            "showgrid": false,
            "showline": true,
            "ticks": "outside"
           },
           "baxis": {
            "gridcolor": "rgb(232,232,232)",
            "linecolor": "rgb(36,36,36)",
            "showgrid": false,
            "showline": true,
            "ticks": "outside"
           },
           "bgcolor": "white",
           "caxis": {
            "gridcolor": "rgb(232,232,232)",
            "linecolor": "rgb(36,36,36)",
            "showgrid": false,
            "showline": true,
            "ticks": "outside"
           }
          },
          "title": {
           "x": 0.05
          },
          "xaxis": {
           "automargin": true,
           "gridcolor": "rgb(232,232,232)",
           "linecolor": "rgb(36,36,36)",
           "showgrid": false,
           "showline": true,
           "ticks": "outside",
           "title": {
            "standoff": 15
           },
           "zeroline": false,
           "zerolinecolor": "rgb(36,36,36)"
          },
          "yaxis": {
           "automargin": true,
           "gridcolor": "rgb(232,232,232)",
           "linecolor": "rgb(36,36,36)",
           "showgrid": false,
           "showline": true,
           "ticks": "outside",
           "title": {
            "standoff": 15
           },
           "zeroline": false,
           "zerolinecolor": "rgb(36,36,36)"
          }
         }
        },
        "title": {
         "font": {
          "color": "Black",
          "size": 22
         },
         "text": "<b>Intertopic Distance Map</b>",
         "x": 0.5,
         "xanchor": "center",
         "y": 0.95,
         "yanchor": "top"
        },
        "width": 650,
        "xaxis": {
         "anchor": "y",
         "domain": [
          0,
          1
         ],
         "range": [
          4.295348691940307,
          8.781702876091003
         ],
         "title": {
          "text": ""
         },
         "visible": false
        },
        "yaxis": {
         "anchor": "x",
         "domain": [
          0,
          1
         ],
         "range": [
          8.187854146957397,
          13.259043455123901
         ],
         "title": {
          "text": ""
         },
         "visible": false
        }
       }
      },
      "image/png": "[encoded data removed]"
     },
     "metadata": {},
     "output_type": "display_data"
    },
    {
     "data": {
      "application/vnd.plotly.v1+json": {
       "config": {
        "plotlyServerURL": "https://plot.ly"
       },
       "data": [
        {
         "marker": {
          "color": "#D55E00"
         },
         "orientation": "h",
         "type": "bar",
         "x": [
          0.04223838341612306,
          0.045099169980604335,
          0.04706247585480602,
          0.05384421405875811,
          0.07382461807621571
         ],
         "xaxis": "x",
         "y": [
          "is  ",
          "and  ",
          "of  ",
          "to  ",
          "the  "
         ],
         "yaxis": "y"
        },
        {
         "marker": {
          "color": "#0072B2"
         },
         "orientation": "h",
         "type": "bar",
         "x": [
          0.19211959858806962,
          0.19211959858806962,
          0.19211959858806962,
          0.2693164121935375,
          0.32935453862832187
         ],
         "xaxis": "x2",
         "y": [
          "jusst  ",
          "sharing  ",
          "ord  ",
          "thanks  ",
          "bs  "
         ],
         "yaxis": "y2"
        },
        {
         "marker": {
          "color": "#CC79A7"
         },
         "orientation": "h",
         "type": "bar",
         "x": [
          0.12007474911754351,
          0.12007474911754351,
          0.12007474911754351,
          0.12007474911754351,
          0.2185030133567465
         ],
         "xaxis": "x3",
         "y": [
          "meziah  ",
          "edgardo  ",
          "schulz  ",
          "andy  ",
          "silva  "
         ],
         "yaxis": "y3"
        },
        {
         "marker": {
          "color": "#E69F00"
         },
         "orientation": "h",
         "type": "bar",
         "x": [
          1e-05,
          1e-05,
          0.38423919717613925,
          0.38423919717613925,
          4.321978101154567
         ],
         "xaxis": "x4",
         "y": [
          "  ",
          "  ",
          "genesis  ",
          "hc  ",
          "nan  "
         ],
         "yaxis": "y4"
        },
        {
         "marker": {
          "color": "#56B4E9"
         },
         "orientation": "h",
         "type": "bar",
         "x": [
          0.08541761706132474,
          0.08937937250538931,
          0.10729737537591136,
          0.12442044666809124,
          0.2159641101808265
         ],
         "xaxis": "x5",
         "y": [
          "no  ",
          "temperaturas  ",
          "que  ",
          "anos  ",
          "de  "
         ],
         "yaxis": "y5"
        }
       ],
       "layout": {
        "annotations": [
         {
          "font": {
           "size": 16
          },
          "showarrow": false,
          "text": "Topic 0",
          "x": 0.0875,
          "xanchor": "center",
          "xref": "paper",
          "y": 1,
          "yanchor": "bottom",
          "yref": "paper"
         },
         {
          "font": {
           "size": 16
          },
          "showarrow": false,
          "text": "Topic 1",
          "x": 0.36250000000000004,
          "xanchor": "center",
          "xref": "paper",
          "y": 1,
          "yanchor": "bottom",
          "yref": "paper"
         },
         {
          "font": {
           "size": 16
          },
          "showarrow": false,
          "text": "Topic 2",
          "x": 0.6375000000000001,
          "xanchor": "center",
          "xref": "paper",
          "y": 1,
          "yanchor": "bottom",
          "yref": "paper"
         },
         {
          "font": {
           "size": 16
          },
          "showarrow": false,
          "text": "Topic 3",
          "x": 0.9125,
          "xanchor": "center",
          "xref": "paper",
          "y": 1,
          "yanchor": "bottom",
          "yref": "paper"
         },
         {
          "font": {
           "size": 16
          },
          "showarrow": false,
          "text": "Topic 4",
          "x": 0.0875,
          "xanchor": "center",
          "xref": "paper",
          "y": 0.4,
          "yanchor": "bottom",
          "yref": "paper"
         }
        ],
        "height": 500,
        "hoverlabel": {
         "bgcolor": "white",
         "font": {
          "family": "Rockwell",
          "size": 16
         }
        },
        "showlegend": false,
        "template": {
         "data": {
          "bar": [
           {
            "error_x": {
             "color": "#2a3f5f"
            },
            "error_y": {
             "color": "#2a3f5f"
            },
            "marker": {
             "line": {
              "color": "white",
              "width": 0.5
             },
             "pattern": {
              "fillmode": "overlay",
              "size": 10,
              "solidity": 0.2
             }
            },
            "type": "bar"
           }
          ],
          "barpolar": [
           {
            "marker": {
             "line": {
              "color": "white",
              "width": 0.5
             },
             "pattern": {
              "fillmode": "overlay",
              "size": 10,
              "solidity": 0.2
             }
            },
            "type": "barpolar"
           }
          ],
          "carpet": [
           {
            "aaxis": {
             "endlinecolor": "#2a3f5f",
             "gridcolor": "#C8D4E3",
             "linecolor": "#C8D4E3",
             "minorgridcolor": "#C8D4E3",
             "startlinecolor": "#2a3f5f"
            },
            "baxis": {
             "endlinecolor": "#2a3f5f",
             "gridcolor": "#C8D4E3",
             "linecolor": "#C8D4E3",
             "minorgridcolor": "#C8D4E3",
             "startlinecolor": "#2a3f5f"
            },
            "type": "carpet"
           }
          ],
          "choropleth": [
           {
            "colorbar": {
             "outlinewidth": 0,
             "ticks": ""
            },
            "type": "choropleth"
           }
          ],
          "contour": [
           {
            "colorbar": {
             "outlinewidth": 0,
             "ticks": ""
            },
            "colorscale": [
             [
              0,
              "#0d0887"
             ],
             [
              0.1111111111111111,
              "#46039f"
             ],
             [
              0.2222222222222222,
              "#7201a8"
             ],
             [
              0.3333333333333333,
              "#9c179e"
             ],
             [
              0.4444444444444444,
              "#bd3786"
             ],
             [
              0.5555555555555556,
              "#d8576b"
             ],
             [
              0.6666666666666666,
              "#ed7953"
             ],
             [
              0.7777777777777778,
              "#fb9f3a"
             ],
             [
              0.8888888888888888,
              "#fdca26"
             ],
             [
              1,
              "#f0f921"
             ]
            ],
            "type": "contour"
           }
          ],
          "contourcarpet": [
           {
            "colorbar": {
             "outlinewidth": 0,
             "ticks": ""
            },
            "type": "contourcarpet"
           }
          ],
          "heatmap": [
           {
            "colorbar": {
             "outlinewidth": 0,
             "ticks": ""
            },
            "colorscale": [
             [
              0,
              "#0d0887"
             ],
             [
              0.1111111111111111,
              "#46039f"
             ],
             [
              0.2222222222222222,
              "#7201a8"
             ],
             [
              0.3333333333333333,
              "#9c179e"
             ],
             [
              0.4444444444444444,
              "#bd3786"
             ],
             [
              0.5555555555555556,
              "#d8576b"
             ],
             [
              0.6666666666666666,
              "#ed7953"
             ],
             [
              0.7777777777777778,
              "#fb9f3a"
             ],
             [
              0.8888888888888888,
              "#fdca26"
             ],
             [
              1,
              "#f0f921"
             ]
            ],
            "type": "heatmap"
           }
          ],
          "histogram": [
           {
            "marker": {
             "pattern": {
              "fillmode": "overlay",
              "size": 10,
              "solidity": 0.2
             }
            },
            "type": "histogram"
           }
          ],
          "histogram2d": [
           {
            "colorbar": {
             "outlinewidth": 0,
             "ticks": ""
            },
            "colorscale": [
             [
              0,
              "#0d0887"
             ],
             [
              0.1111111111111111,
              "#46039f"
             ],
             [
              0.2222222222222222,
              "#7201a8"
             ],
             [
              0.3333333333333333,
              "#9c179e"
             ],
             [
              0.4444444444444444,
              "#bd3786"
             ],
             [
              0.5555555555555556,
              "#d8576b"
             ],
             [
              0.6666666666666666,
              "#ed7953"
             ],
             [
              0.7777777777777778,
              "#fb9f3a"
             ],
             [
              0.8888888888888888,
              "#fdca26"
             ],
             [
              1,
              "#f0f921"
             ]
            ],
            "type": "histogram2d"
           }
          ],
          "histogram2dcontour": [
           {
            "colorbar": {
             "outlinewidth": 0,
             "ticks": ""
            },
            "colorscale": [
             [
              0,
              "#0d0887"
             ],
             [
              0.1111111111111111,
              "#46039f"
             ],
             [
              0.2222222222222222,
              "#7201a8"
             ],
             [
              0.3333333333333333,
              "#9c179e"
             ],
             [
              0.4444444444444444,
              "#bd3786"
             ],
             [
              0.5555555555555556,
              "#d8576b"
             ],
             [
              0.6666666666666666,
              "#ed7953"
             ],
             [
              0.7777777777777778,
              "#fb9f3a"
             ],
             [
              0.8888888888888888,
              "#fdca26"
             ],
             [
              1,
              "#f0f921"
             ]
            ],
            "type": "histogram2dcontour"
           }
          ],
          "mesh3d": [
           {
            "colorbar": {
             "outlinewidth": 0,
             "ticks": ""
            },
            "type": "mesh3d"
           }
          ],
          "parcoords": [
           {
            "line": {
             "colorbar": {
              "outlinewidth": 0,
              "ticks": ""
             }
            },
            "type": "parcoords"
           }
          ],
          "pie": [
           {
            "automargin": true,
            "type": "pie"
           }
          ],
          "scatter": [
           {
            "fillpattern": {
             "fillmode": "overlay",
             "size": 10,
             "solidity": 0.2
            },
            "type": "scatter"
           }
          ],
          "scatter3d": [
           {
            "line": {
             "colorbar": {
              "outlinewidth": 0,
              "ticks": ""
             }
            },
            "marker": {
             "colorbar": {
              "outlinewidth": 0,
              "ticks": ""
             }
            },
            "type": "scatter3d"
           }
          ],
          "scattercarpet": [
           {
            "marker": {
             "colorbar": {
              "outlinewidth": 0,
              "ticks": ""
             }
            },
            "type": "scattercarpet"
           }
          ],
          "scattergeo": [
           {
            "marker": {
             "colorbar": {
              "outlinewidth": 0,
              "ticks": ""
             }
            },
            "type": "scattergeo"
           }
          ],
          "scattergl": [
           {
            "marker": {
             "colorbar": {
              "outlinewidth": 0,
              "ticks": ""
             }
            },
            "type": "scattergl"
           }
          ],
          "scattermap": [
           {
            "marker": {
             "colorbar": {
              "outlinewidth": 0,
              "ticks": ""
             }
            },
            "type": "scattermap"
           }
          ],
          "scattermapbox": [
           {
            "marker": {
             "colorbar": {
              "outlinewidth": 0,
              "ticks": ""
             }
            },
            "type": "scattermapbox"
           }
          ],
          "scatterpolar": [
           {
            "marker": {
             "colorbar": {
              "outlinewidth": 0,
              "ticks": ""
             }
            },
            "type": "scatterpolar"
           }
          ],
          "scatterpolargl": [
           {
            "marker": {
             "colorbar": {
              "outlinewidth": 0,
              "ticks": ""
             }
            },
            "type": "scatterpolargl"
           }
          ],
          "scatterternary": [
           {
            "marker": {
             "colorbar": {
              "outlinewidth": 0,
              "ticks": ""
             }
            },
            "type": "scatterternary"
           }
          ],
          "surface": [
           {
            "colorbar": {
             "outlinewidth": 0,
             "ticks": ""
            },
            "colorscale": [
             [
              0,
              "#0d0887"
             ],
             [
              0.1111111111111111,
              "#46039f"
             ],
             [
              0.2222222222222222,
              "#7201a8"
             ],
             [
              0.3333333333333333,
              "#9c179e"
             ],
             [
              0.4444444444444444,
              "#bd3786"
             ],
             [
              0.5555555555555556,
              "#d8576b"
             ],
             [
              0.6666666666666666,
              "#ed7953"
             ],
             [
              0.7777777777777778,
              "#fb9f3a"
             ],
             [
              0.8888888888888888,
              "#fdca26"
             ],
             [
              1,
              "#f0f921"
             ]
            ],
            "type": "surface"
           }
          ],
          "table": [
           {
            "cells": {
             "fill": {
              "color": "#EBF0F8"
             },
             "line": {
              "color": "white"
             }
            },
            "header": {
             "fill": {
              "color": "#C8D4E3"
             },
             "line": {
              "color": "white"
             }
            },
            "type": "table"
           }
          ]
         },
         "layout": {
          "annotationdefaults": {
           "arrowcolor": "#2a3f5f",
           "arrowhead": 0,
           "arrowwidth": 1
          },
          "autotypenumbers": "strict",
          "coloraxis": {
           "colorbar": {
            "outlinewidth": 0,
            "ticks": ""
           }
          },
          "colorscale": {
           "diverging": [
            [
             0,
             "#8e0152"
            ],
            [
             0.1,
             "#c51b7d"
            ],
            [
             0.2,
             "#de77ae"
            ],
            [
             0.3,
             "#f1b6da"
            ],
            [
             0.4,
             "#fde0ef"
            ],
            [
             0.5,
             "#f7f7f7"
            ],
            [
             0.6,
             "#e6f5d0"
            ],
            [
             0.7,
             "#b8e186"
            ],
            [
             0.8,
             "#7fbc41"
            ],
            [
             0.9,
             "#4d9221"
            ],
            [
             1,
             "#276419"
            ]
           ],
           "sequential": [
            [
             0,
             "#0d0887"
            ],
            [
             0.1111111111111111,
             "#46039f"
            ],
            [
             0.2222222222222222,
             "#7201a8"
            ],
            [
             0.3333333333333333,
             "#9c179e"
            ],
            [
             0.4444444444444444,
             "#bd3786"
            ],
            [
             0.5555555555555556,
             "#d8576b"
            ],
            [
             0.6666666666666666,
             "#ed7953"
            ],
            [
             0.7777777777777778,
             "#fb9f3a"
            ],
            [
             0.8888888888888888,
             "#fdca26"
            ],
            [
             1,
             "#f0f921"
            ]
           ],
           "sequentialminus": [
            [
             0,
             "#0d0887"
            ],
            [
             0.1111111111111111,
             "#46039f"
            ],
            [
             0.2222222222222222,
             "#7201a8"
            ],
            [
             0.3333333333333333,
             "#9c179e"
            ],
            [
             0.4444444444444444,
             "#bd3786"
            ],
            [
             0.5555555555555556,
             "#d8576b"
            ],
            [
             0.6666666666666666,
             "#ed7953"
            ],
            [
             0.7777777777777778,
             "#fb9f3a"
            ],
            [
             0.8888888888888888,
             "#fdca26"
            ],
            [
             1,
             "#f0f921"
            ]
           ]
          },
          "colorway": [
           "#636efa",
           "#EF553B",
           "#00cc96",
           "#ab63fa",
           "#FFA15A",
           "#19d3f3",
           "#FF6692",
           "#B6E880",
           "#FF97FF",
           "#FECB52"
          ],
          "font": {
           "color": "#2a3f5f"
          },
          "geo": {
           "bgcolor": "white",
           "lakecolor": "white",
           "landcolor": "white",
           "showlakes": true,
           "showland": true,
           "subunitcolor": "#C8D4E3"
          },
          "hoverlabel": {
           "align": "left"
          },
          "hovermode": "closest",
          "mapbox": {
           "style": "light"
          },
          "paper_bgcolor": "white",
          "plot_bgcolor": "white",
          "polar": {
           "angularaxis": {
            "gridcolor": "#EBF0F8",
            "linecolor": "#EBF0F8",
            "ticks": ""
           },
           "bgcolor": "white",
           "radialaxis": {
            "gridcolor": "#EBF0F8",
            "linecolor": "#EBF0F8",
            "ticks": ""
           }
          },
          "scene": {
           "xaxis": {
            "backgroundcolor": "white",
            "gridcolor": "#DFE8F3",
            "gridwidth": 2,
            "linecolor": "#EBF0F8",
            "showbackground": true,
            "ticks": "",
            "zerolinecolor": "#EBF0F8"
           },
           "yaxis": {
            "backgroundcolor": "white",
            "gridcolor": "#DFE8F3",
            "gridwidth": 2,
            "linecolor": "#EBF0F8",
            "showbackground": true,
            "ticks": "",
            "zerolinecolor": "#EBF0F8"
           },
           "zaxis": {
            "backgroundcolor": "white",
            "gridcolor": "#DFE8F3",
            "gridwidth": 2,
            "linecolor": "#EBF0F8",
            "showbackground": true,
            "ticks": "",
            "zerolinecolor": "#EBF0F8"
           }
          },
          "shapedefaults": {
           "line": {
            "color": "#2a3f5f"
           }
          },
          "ternary": {
           "aaxis": {
            "gridcolor": "#DFE8F3",
            "linecolor": "#A2B1C6",
            "ticks": ""
           },
           "baxis": {
            "gridcolor": "#DFE8F3",
            "linecolor": "#A2B1C6",
            "ticks": ""
           },
           "bgcolor": "white",
           "caxis": {
            "gridcolor": "#DFE8F3",
            "linecolor": "#A2B1C6",
            "ticks": ""
           }
          },
          "title": {
           "x": 0.05
          },
          "xaxis": {
           "automargin": true,
           "gridcolor": "#EBF0F8",
           "linecolor": "#EBF0F8",
           "ticks": "",
           "title": {
            "standoff": 15
           },
           "zerolinecolor": "#EBF0F8",
           "zerolinewidth": 2
          },
          "yaxis": {
           "automargin": true,
           "gridcolor": "#EBF0F8",
           "linecolor": "#EBF0F8",
           "ticks": "",
           "title": {
            "standoff": 15
           },
           "zerolinecolor": "#EBF0F8",
           "zerolinewidth": 2
          }
         }
        },
        "title": {
         "font": {
          "color": "Black",
          "size": 22
         },
         "text": "Topic Word Scores",
         "x": 0.5,
         "xanchor": "center",
         "yanchor": "top"
        },
        "width": 1000,
        "xaxis": {
         "anchor": "y",
         "domain": [
          0,
          0.175
         ],
         "showgrid": true
        },
        "xaxis2": {
         "anchor": "y2",
         "domain": [
          0.275,
          0.45
         ],
         "showgrid": true
        },
        "xaxis3": {
         "anchor": "y3",
         "domain": [
          0.55,
          0.7250000000000001
         ],
         "showgrid": true
        },
        "xaxis4": {
         "anchor": "y4",
         "domain": [
          0.825,
          1
         ],
         "showgrid": true
        },
        "xaxis5": {
         "anchor": "y5",
         "domain": [
          0,
          0.175
         ],
         "showgrid": true
        },
        "xaxis6": {
         "anchor": "y6",
         "domain": [
          0.275,
          0.45
         ],
         "showgrid": true
        },
        "xaxis7": {
         "anchor": "y7",
         "domain": [
          0.55,
          0.7250000000000001
         ],
         "showgrid": true
        },
        "xaxis8": {
         "anchor": "y8",
         "domain": [
          0.825,
          1
         ],
         "showgrid": true
        },
        "yaxis": {
         "anchor": "x",
         "domain": [
          0.6000000000000001,
          1
         ],
         "showgrid": true
        },
        "yaxis2": {
         "anchor": "x2",
         "domain": [
          0.6000000000000001,
          1
         ],
         "showgrid": true
        },
        "yaxis3": {
         "anchor": "x3",
         "domain": [
          0.6000000000000001,
          1
         ],
         "showgrid": true
        },
        "yaxis4": {
         "anchor": "x4",
         "domain": [
          0.6000000000000001,
          1
         ],
         "showgrid": true
        },
        "yaxis5": {
         "anchor": "x5",
         "domain": [
          0,
          0.4
         ],
         "showgrid": true
        },
        "yaxis6": {
         "anchor": "x6",
         "domain": [
          0,
          0.4
         ],
         "showgrid": true
        },
        "yaxis7": {
         "anchor": "x7",
         "domain": [
          0,
          0.4
         ],
         "showgrid": true
        },
        "yaxis8": {
         "anchor": "x8",
         "domain": [
          0,
          0.4
         ],
         "showgrid": true
        }
       }
      },
      "image/png": "[encoded data removed]"
     },
     "metadata": {},
     "output_type": "display_data"
    }
   ],
   "source": [
    "from bertopic import BERTopic\n",
    "from sklearn.feature_extraction.text import CountVectorizer\n",
    "import pandas as pd\n",
    "\n",
    "# Load and clean dataset\n",
    "df = pd.read_csv(\"climate_nasa.csv\")\n",
    "df['text'] = df['text'].astype(str)\n",
    "df['clean_text'] = df['text'].str.replace(r\"[^a-zA-Z\\s]\", \"\", regex=True).str.lower()\n",
    "\n",
    "# Create BERTopic model\n",
    "topic_model = BERTopic(language=\"english\", min_topic_size=5, verbose=True)\n",
    "\n",
    "# Fit model\n",
    "topics, probs = topic_model.fit_transform(df['clean_text'])\n",
    "\n",
    "# Add topic results to DataFrame\n",
    "df['topic'] = topics\n",
    "df['topic_prob'] = probs\n",
    "\n",
    "# View top 5 topics\n",
    "print(topic_model.get_topic_info().head())\n",
    "\n",
    "# View keywords of topic 0 (example)\n",
    "print(topic_model.get_topic(0))\n",
    "\n",
    "# Optional: Visualize\n",
    "topic_model.visualize_topics().show()\n",
    "topic_model.visualize_barchart(top_n_topics=5).show()\n",
    "\n",
    "# Save results\n",
    "df.to_csv(\"nasa_topic_output_2.csv\", index=False)\n"
   ]
  },
  {
   "cell_type": "code",
   "execution_count": 15,
   "id": "75f58eb6-acc6-4670-81ff-89917994d4d3",
   "metadata": {},
   "outputs": [
    {
     "name": "stderr",
     "output_type": "stream",
     "text": [
      "2025-07-04 00:56:24,007 - BERTopic - Embedding - Transforming documents to embeddings.\n"
     ]
    },
    {
     "data": {
      "application/vnd.jupyter.widget-view+json": {
       "model_id": "914d4945462a4cd8b1089dbdd39e6630",
       "version_major": 2,
       "version_minor": 0
      },
      "text/plain": [
       "Batches:   0%|          | 0/15 [00:00<?, ?it/s]"
      ]
     },
     "metadata": {},
     "output_type": "display_data"
    },
    {
     "name": "stderr",
     "output_type": "stream",
     "text": [
      "2025-07-04 00:56:34,716 - BERTopic - Embedding - Completed ✓\n",
      "2025-07-04 00:56:34,716 - BERTopic - Dimensionality - Fitting the dimensionality reduction algorithm\n",
      "2025-07-04 00:56:35,852 - BERTopic - Dimensionality - Completed ✓\n",
      "2025-07-04 00:56:35,867 - BERTopic - Cluster - Start clustering the reduced embeddings\n",
      "2025-07-04 00:56:35,887 - BERTopic - Cluster - Completed ✓\n",
      "2025-07-04 00:56:35,887 - BERTopic - Representation - Fine-tuning topics using representation models.\n",
      "2025-07-04 00:56:35,920 - BERTopic - Representation - Completed ✓\n"
     ]
    },
    {
     "name": "stdout",
     "output_type": "stream",
     "text": [
      "   Topic  Count                           Name  \\\n",
      "0      0    433                0_the_to_of_and   \n",
      "1      1     19  1_silva_american_sergio_kerry   \n",
      "2      2     18               2_de_anos_que_no   \n",
      "\n",
      "                                      Representation  \\\n",
      "0      [the, to, of, and, is, in, that, we, it, are]   \n",
      "1  [silva, american, sergio, kerry, loess, lugo, ...   \n",
      "2  [de, anos, que, no, temperaturas, as, dos, pla...   \n",
      "\n",
      "                                 Representative_Docs  \n",
      "0  [you know how people say the earths climate ha...  \n",
      "1  [john kerry to the rescue with his private jet...  \n",
      "2  [es triste todo lo que esta pasando todo se de...  \n",
      "[('the', 0.11225730979051786), ('to', 0.07650841057184217), ('of', 0.06490840306047864), ('and', 0.06186810413560942), ('is', 0.05730701445026183), ('in', 0.05390883380479747), ('that', 0.042975347747710335), ('we', 0.041341312507982245), ('it', 0.03645856018082219), ('are', 0.03369421060148448)]\n"
     ]
    },
    {
     "data": {
      "application/vnd.plotly.v1+json": {
       "config": {
        "plotlyServerURL": "https://plot.ly"
       },
       "data": [
        {
         "marker": {
          "color": "#D55E00"
         },
         "orientation": "h",
         "type": "bar",
         "x": [
          0.05730701445026183,
          0.06186810413560942,
          0.06490840306047864,
          0.07650841057184217,
          0.11225730979051786
         ],
         "xaxis": "x",
         "y": [
          "is  ",
          "and  ",
          "of  ",
          "to  ",
          "the  "
         ],
         "yaxis": "y"
        },
        {
         "marker": {
          "color": "#0072B2"
         },
         "orientation": "h",
         "type": "bar",
         "x": [
          0.1152503878524322,
          0.1152503878524322,
          0.1152503878524322,
          0.1152503878524322,
          0.21177241207216124
         ],
         "xaxis": "x2",
         "y": [
          "loess  ",
          "kerry  ",
          "sergio  ",
          "american  ",
          "silva  "
         ],
         "yaxis": "y2"
        },
        {
         "marker": {
          "color": "#CC79A7"
         },
         "orientation": "h",
         "type": "bar",
         "x": [
          0.10279634138875181,
          0.10365701846549537,
          0.12405820194357718,
          0.14452099342596883,
          0.25601654391511947
         ],
         "xaxis": "x3",
         "y": [
          "temperaturas  ",
          "no  ",
          "que  ",
          "anos  ",
          "de  "
         ],
         "yaxis": "y3"
        }
       ],
       "layout": {
        "annotations": [
         {
          "font": {
           "size": 16
          },
          "showarrow": false,
          "text": "Topic 0",
          "x": 0.0875,
          "xanchor": "center",
          "xref": "paper",
          "y": 1,
          "yanchor": "bottom",
          "yref": "paper"
         },
         {
          "font": {
           "size": 16
          },
          "showarrow": false,
          "text": "Topic 1",
          "x": 0.36250000000000004,
          "xanchor": "center",
          "xref": "paper",
          "y": 1,
          "yanchor": "bottom",
          "yref": "paper"
         },
         {
          "font": {
           "size": 16
          },
          "showarrow": false,
          "text": "Topic 2",
          "x": 0.6375000000000001,
          "xanchor": "center",
          "xref": "paper",
          "y": 1,
          "yanchor": "bottom",
          "yref": "paper"
         }
        ],
        "height": 325,
        "hoverlabel": {
         "bgcolor": "white",
         "font": {
          "family": "Rockwell",
          "size": 16
         }
        },
        "showlegend": false,
        "template": {
         "data": {
          "bar": [
           {
            "error_x": {
             "color": "#2a3f5f"
            },
            "error_y": {
             "color": "#2a3f5f"
            },
            "marker": {
             "line": {
              "color": "white",
              "width": 0.5
             },
             "pattern": {
              "fillmode": "overlay",
              "size": 10,
              "solidity": 0.2
             }
            },
            "type": "bar"
           }
          ],
          "barpolar": [
           {
            "marker": {
             "line": {
              "color": "white",
              "width": 0.5
             },
             "pattern": {
              "fillmode": "overlay",
              "size": 10,
              "solidity": 0.2
             }
            },
            "type": "barpolar"
           }
          ],
          "carpet": [
           {
            "aaxis": {
             "endlinecolor": "#2a3f5f",
             "gridcolor": "#C8D4E3",
             "linecolor": "#C8D4E3",
             "minorgridcolor": "#C8D4E3",
             "startlinecolor": "#2a3f5f"
            },
            "baxis": {
             "endlinecolor": "#2a3f5f",
             "gridcolor": "#C8D4E3",
             "linecolor": "#C8D4E3",
             "minorgridcolor": "#C8D4E3",
             "startlinecolor": "#2a3f5f"
            },
            "type": "carpet"
           }
          ],
          "choropleth": [
           {
            "colorbar": {
             "outlinewidth": 0,
             "ticks": ""
            },
            "type": "choropleth"
           }
          ],
          "contour": [
           {
            "colorbar": {
             "outlinewidth": 0,
             "ticks": ""
            },
            "colorscale": [
             [
              0,
              "#0d0887"
             ],
             [
              0.1111111111111111,
              "#46039f"
             ],
             [
              0.2222222222222222,
              "#7201a8"
             ],
             [
              0.3333333333333333,
              "#9c179e"
             ],
             [
              0.4444444444444444,
              "#bd3786"
             ],
             [
              0.5555555555555556,
              "#d8576b"
             ],
             [
              0.6666666666666666,
              "#ed7953"
             ],
             [
              0.7777777777777778,
              "#fb9f3a"
             ],
             [
              0.8888888888888888,
              "#fdca26"
             ],
             [
              1,
              "#f0f921"
             ]
            ],
            "type": "contour"
           }
          ],
          "contourcarpet": [
           {
            "colorbar": {
             "outlinewidth": 0,
             "ticks": ""
            },
            "type": "contourcarpet"
           }
          ],
          "heatmap": [
           {
            "colorbar": {
             "outlinewidth": 0,
             "ticks": ""
            },
            "colorscale": [
             [
              0,
              "#0d0887"
             ],
             [
              0.1111111111111111,
              "#46039f"
             ],
             [
              0.2222222222222222,
              "#7201a8"
             ],
             [
              0.3333333333333333,
              "#9c179e"
             ],
             [
              0.4444444444444444,
              "#bd3786"
             ],
             [
              0.5555555555555556,
              "#d8576b"
             ],
             [
              0.6666666666666666,
              "#ed7953"
             ],
             [
              0.7777777777777778,
              "#fb9f3a"
             ],
             [
              0.8888888888888888,
              "#fdca26"
             ],
             [
              1,
              "#f0f921"
             ]
            ],
            "type": "heatmap"
           }
          ],
          "histogram": [
           {
            "marker": {
             "pattern": {
              "fillmode": "overlay",
              "size": 10,
              "solidity": 0.2
             }
            },
            "type": "histogram"
           }
          ],
          "histogram2d": [
           {
            "colorbar": {
             "outlinewidth": 0,
             "ticks": ""
            },
            "colorscale": [
             [
              0,
              "#0d0887"
             ],
             [
              0.1111111111111111,
              "#46039f"
             ],
             [
              0.2222222222222222,
              "#7201a8"
             ],
             [
              0.3333333333333333,
              "#9c179e"
             ],
             [
              0.4444444444444444,
              "#bd3786"
             ],
             [
              0.5555555555555556,
              "#d8576b"
             ],
             [
              0.6666666666666666,
              "#ed7953"
             ],
             [
              0.7777777777777778,
              "#fb9f3a"
             ],
             [
              0.8888888888888888,
              "#fdca26"
             ],
             [
              1,
              "#f0f921"
             ]
            ],
            "type": "histogram2d"
           }
          ],
          "histogram2dcontour": [
           {
            "colorbar": {
             "outlinewidth": 0,
             "ticks": ""
            },
            "colorscale": [
             [
              0,
              "#0d0887"
             ],
             [
              0.1111111111111111,
              "#46039f"
             ],
             [
              0.2222222222222222,
              "#7201a8"
             ],
             [
              0.3333333333333333,
              "#9c179e"
             ],
             [
              0.4444444444444444,
              "#bd3786"
             ],
             [
              0.5555555555555556,
              "#d8576b"
             ],
             [
              0.6666666666666666,
              "#ed7953"
             ],
             [
              0.7777777777777778,
              "#fb9f3a"
             ],
             [
              0.8888888888888888,
              "#fdca26"
             ],
             [
              1,
              "#f0f921"
             ]
            ],
            "type": "histogram2dcontour"
           }
          ],
          "mesh3d": [
           {
            "colorbar": {
             "outlinewidth": 0,
             "ticks": ""
            },
            "type": "mesh3d"
           }
          ],
          "parcoords": [
           {
            "line": {
             "colorbar": {
              "outlinewidth": 0,
              "ticks": ""
             }
            },
            "type": "parcoords"
           }
          ],
          "pie": [
           {
            "automargin": true,
            "type": "pie"
           }
          ],
          "scatter": [
           {
            "fillpattern": {
             "fillmode": "overlay",
             "size": 10,
             "solidity": 0.2
            },
            "type": "scatter"
           }
          ],
          "scatter3d": [
           {
            "line": {
             "colorbar": {
              "outlinewidth": 0,
              "ticks": ""
             }
            },
            "marker": {
             "colorbar": {
              "outlinewidth": 0,
              "ticks": ""
             }
            },
            "type": "scatter3d"
           }
          ],
          "scattercarpet": [
           {
            "marker": {
             "colorbar": {
              "outlinewidth": 0,
              "ticks": ""
             }
            },
            "type": "scattercarpet"
           }
          ],
          "scattergeo": [
           {
            "marker": {
             "colorbar": {
              "outlinewidth": 0,
              "ticks": ""
             }
            },
            "type": "scattergeo"
           }
          ],
          "scattergl": [
           {
            "marker": {
             "colorbar": {
              "outlinewidth": 0,
              "ticks": ""
             }
            },
            "type": "scattergl"
           }
          ],
          "scattermap": [
           {
            "marker": {
             "colorbar": {
              "outlinewidth": 0,
              "ticks": ""
             }
            },
            "type": "scattermap"
           }
          ],
          "scattermapbox": [
           {
            "marker": {
             "colorbar": {
              "outlinewidth": 0,
              "ticks": ""
             }
            },
            "type": "scattermapbox"
           }
          ],
          "scatterpolar": [
           {
            "marker": {
             "colorbar": {
              "outlinewidth": 0,
              "ticks": ""
             }
            },
            "type": "scatterpolar"
           }
          ],
          "scatterpolargl": [
           {
            "marker": {
             "colorbar": {
              "outlinewidth": 0,
              "ticks": ""
             }
            },
            "type": "scatterpolargl"
           }
          ],
          "scatterternary": [
           {
            "marker": {
             "colorbar": {
              "outlinewidth": 0,
              "ticks": ""
             }
            },
            "type": "scatterternary"
           }
          ],
          "surface": [
           {
            "colorbar": {
             "outlinewidth": 0,
             "ticks": ""
            },
            "colorscale": [
             [
              0,
              "#0d0887"
             ],
             [
              0.1111111111111111,
              "#46039f"
             ],
             [
              0.2222222222222222,
              "#7201a8"
             ],
             [
              0.3333333333333333,
              "#9c179e"
             ],
             [
              0.4444444444444444,
              "#bd3786"
             ],
             [
              0.5555555555555556,
              "#d8576b"
             ],
             [
              0.6666666666666666,
              "#ed7953"
             ],
             [
              0.7777777777777778,
              "#fb9f3a"
             ],
             [
              0.8888888888888888,
              "#fdca26"
             ],
             [
              1,
              "#f0f921"
             ]
            ],
            "type": "surface"
           }
          ],
          "table": [
           {
            "cells": {
             "fill": {
              "color": "#EBF0F8"
             },
             "line": {
              "color": "white"
             }
            },
            "header": {
             "fill": {
              "color": "#C8D4E3"
             },
             "line": {
              "color": "white"
             }
            },
            "type": "table"
           }
          ]
         },
         "layout": {
          "annotationdefaults": {
           "arrowcolor": "#2a3f5f",
           "arrowhead": 0,
           "arrowwidth": 1
          },
          "autotypenumbers": "strict",
          "coloraxis": {
           "colorbar": {
            "outlinewidth": 0,
            "ticks": ""
           }
          },
          "colorscale": {
           "diverging": [
            [
             0,
             "#8e0152"
            ],
            [
             0.1,
             "#c51b7d"
            ],
            [
             0.2,
             "#de77ae"
            ],
            [
             0.3,
             "#f1b6da"
            ],
            [
             0.4,
             "#fde0ef"
            ],
            [
             0.5,
             "#f7f7f7"
            ],
            [
             0.6,
             "#e6f5d0"
            ],
            [
             0.7,
             "#b8e186"
            ],
            [
             0.8,
             "#7fbc41"
            ],
            [
             0.9,
             "#4d9221"
            ],
            [
             1,
             "#276419"
            ]
           ],
           "sequential": [
            [
             0,
             "#0d0887"
            ],
            [
             0.1111111111111111,
             "#46039f"
            ],
            [
             0.2222222222222222,
             "#7201a8"
            ],
            [
             0.3333333333333333,
             "#9c179e"
            ],
            [
             0.4444444444444444,
             "#bd3786"
            ],
            [
             0.5555555555555556,
             "#d8576b"
            ],
            [
             0.6666666666666666,
             "#ed7953"
            ],
            [
             0.7777777777777778,
             "#fb9f3a"
            ],
            [
             0.8888888888888888,
             "#fdca26"
            ],
            [
             1,
             "#f0f921"
            ]
           ],
           "sequentialminus": [
            [
             0,
             "#0d0887"
            ],
            [
             0.1111111111111111,
             "#46039f"
            ],
            [
             0.2222222222222222,
             "#7201a8"
            ],
            [
             0.3333333333333333,
             "#9c179e"
            ],
            [
             0.4444444444444444,
             "#bd3786"
            ],
            [
             0.5555555555555556,
             "#d8576b"
            ],
            [
             0.6666666666666666,
             "#ed7953"
            ],
            [
             0.7777777777777778,
             "#fb9f3a"
            ],
            [
             0.8888888888888888,
             "#fdca26"
            ],
            [
             1,
             "#f0f921"
            ]
           ]
          },
          "colorway": [
           "#636efa",
           "#EF553B",
           "#00cc96",
           "#ab63fa",
           "#FFA15A",
           "#19d3f3",
           "#FF6692",
           "#B6E880",
           "#FF97FF",
           "#FECB52"
          ],
          "font": {
           "color": "#2a3f5f"
          },
          "geo": {
           "bgcolor": "white",
           "lakecolor": "white",
           "landcolor": "white",
           "showlakes": true,
           "showland": true,
           "subunitcolor": "#C8D4E3"
          },
          "hoverlabel": {
           "align": "left"
          },
          "hovermode": "closest",
          "mapbox": {
           "style": "light"
          },
          "paper_bgcolor": "white",
          "plot_bgcolor": "white",
          "polar": {
           "angularaxis": {
            "gridcolor": "#EBF0F8",
            "linecolor": "#EBF0F8",
            "ticks": ""
           },
           "bgcolor": "white",
           "radialaxis": {
            "gridcolor": "#EBF0F8",
            "linecolor": "#EBF0F8",
            "ticks": ""
           }
          },
          "scene": {
           "xaxis": {
            "backgroundcolor": "white",
            "gridcolor": "#DFE8F3",
            "gridwidth": 2,
            "linecolor": "#EBF0F8",
            "showbackground": true,
            "ticks": "",
            "zerolinecolor": "#EBF0F8"
           },
           "yaxis": {
            "backgroundcolor": "white",
            "gridcolor": "#DFE8F3",
            "gridwidth": 2,
            "linecolor": "#EBF0F8",
            "showbackground": true,
            "ticks": "",
            "zerolinecolor": "#EBF0F8"
           },
           "zaxis": {
            "backgroundcolor": "white",
            "gridcolor": "#DFE8F3",
            "gridwidth": 2,
            "linecolor": "#EBF0F8",
            "showbackground": true,
            "ticks": "",
            "zerolinecolor": "#EBF0F8"
           }
          },
          "shapedefaults": {
           "line": {
            "color": "#2a3f5f"
           }
          },
          "ternary": {
           "aaxis": {
            "gridcolor": "#DFE8F3",
            "linecolor": "#A2B1C6",
            "ticks": ""
           },
           "baxis": {
            "gridcolor": "#DFE8F3",
            "linecolor": "#A2B1C6",
            "ticks": ""
           },
           "bgcolor": "white",
           "caxis": {
            "gridcolor": "#DFE8F3",
            "linecolor": "#A2B1C6",
            "ticks": ""
           }
          },
          "title": {
           "x": 0.05
          },
          "xaxis": {
           "automargin": true,
           "gridcolor": "#EBF0F8",
           "linecolor": "#EBF0F8",
           "ticks": "",
           "title": {
            "standoff": 15
           },
           "zerolinecolor": "#EBF0F8",
           "zerolinewidth": 2
          },
          "yaxis": {
           "automargin": true,
           "gridcolor": "#EBF0F8",
           "linecolor": "#EBF0F8",
           "ticks": "",
           "title": {
            "standoff": 15
           },
           "zerolinecolor": "#EBF0F8",
           "zerolinewidth": 2
          }
         }
        },
        "title": {
         "font": {
          "color": "Black",
          "size": 22
         },
         "text": "Topic Word Scores",
         "x": 0.5,
         "xanchor": "center",
         "yanchor": "top"
        },
        "width": 1000,
        "xaxis": {
         "anchor": "y",
         "domain": [
          0,
          0.175
         ],
         "showgrid": true
        },
        "xaxis2": {
         "anchor": "y2",
         "domain": [
          0.275,
          0.45
         ],
         "showgrid": true
        },
        "xaxis3": {
         "anchor": "y3",
         "domain": [
          0.55,
          0.7250000000000001
         ],
         "showgrid": true
        },
        "xaxis4": {
         "anchor": "y4",
         "domain": [
          0.825,
          1
         ],
         "showgrid": true
        },
        "yaxis": {
         "anchor": "x",
         "domain": [
          0,
          1
         ],
         "showgrid": true
        },
        "yaxis2": {
         "anchor": "x2",
         "domain": [
          0,
          1
         ],
         "showgrid": true
        },
        "yaxis3": {
         "anchor": "x3",
         "domain": [
          0,
          1
         ],
         "showgrid": true
        },
        "yaxis4": {
         "anchor": "x4",
         "domain": [
          0,
          1
         ],
         "showgrid": true
        }
       }
      },
      "image/png": "[encoded data removed]"
     },
     "metadata": {},
     "output_type": "display_data"
    }
   ],
   "source": [
    "from bertopic import BERTopic\n",
    "import pandas as pd\n",
    "import re\n",
    "\n",
    "# Load your sentiment-annotated CSV\n",
    "df = pd.read_csv(\"nasa_sentiment_output.csv\")\n",
    "\n",
    "# Clean the text (if not already cleaned)\n",
    "df['clean_text'] = df['text'].astype(str).apply(lambda x: re.sub(r\"[^a-zA-Z\\s]\", \"\", x.lower()))\n",
    "\n",
    "# Drop empty or short rows\n",
    "df = df[df['clean_text'].str.strip().str.len() > 10]\n",
    "\n",
    "# Fit BERTopic\n",
    "topic_model = BERTopic(language=\"english\", verbose=True, min_topic_size=5)\n",
    "topics, probs = topic_model.fit_transform(df['clean_text'])\n",
    "\n",
    "# Add topic info back to DataFrame\n",
    "df['topic'] = topics\n",
    "df['topic_prob'] = probs\n",
    "\n",
    "# Save topic data\n",
    "df.to_csv(\"nasa_topic_output.csv\", index=False)\n",
    "\n",
    "# Show summary of topics\n",
    "print(topic_model.get_topic_info().head())\n",
    "\n",
    "# Optional: Explore top words of a specific topic\n",
    "print(topic_model.get_topic(0))  # Example: topic 0\n",
    "\n",
    "# Optional: Visualize topics (interactive)\n",
    "topic_model.visualize_barchart(top_n_topics=3).show()\n"
   ]
  },
  {
   "cell_type": "code",
   "execution_count": 16,
   "id": "60aa8a78-bcd8-4a7f-bbac-3b544f353852",
   "metadata": {},
   "outputs": [
    {
     "data": {
      "image/png": "[encoded data removed]",
      "text/plain": [
       "<Figure size 1400x600 with 1 Axes>"
      ]
     },
     "metadata": {},
     "output_type": "display_data"
    }
   ],
   "source": [
    "import pandas as pd\n",
    "import matplotlib.pyplot as plt\n",
    "\n",
    "# Load topic data (your output from BERTopic)\n",
    "df = pd.read_csv(\"nasa_topic_output.csv\")\n",
    "\n",
    "# Ensure date is parsed\n",
    "df['date'] = pd.to_datetime(df['date'], errors='coerce')\n",
    "\n",
    "# Extract month and year for grouping\n",
    "df['month'] = df['date'].dt.to_period(\"M\").astype(str)\n",
    "\n",
    "# Count topics per month\n",
    "topic_trend = df.groupby(['month', 'topic']).size().reset_index(name='count')\n",
    "\n",
    "# Pivot for plotting\n",
    "pivot_df = topic_trend.pivot(index='month', columns='topic', values='count').fillna(0)\n",
    "\n",
    "# Normalize to % share of each topic per month\n",
    "pivot_df_percent = pivot_df.div(pivot_df.sum(axis=1), axis=0) * 100\n",
    "\n",
    "# Plot top 5 trending topics over time\n",
    "top_topics = pivot_df.sum().sort_values(ascending=False).head(5).index\n",
    "pivot_df_percent[top_topics].plot(figsize=(14, 6), marker='o')\n",
    "plt.title(\"Top 5 Topics Over Time (% Share)\")\n",
    "plt.xlabel(\"Month\")\n",
    "plt.ylabel(\"Percentage of Comments\")\n",
    "plt.legend(title=\"Topic #\")\n",
    "plt.grid(True)\n",
    "plt.tight_layout()\n",
    "plt.show()\n"
   ]
  },
  {
   "cell_type": "code",
   "execution_count": 17,
   "id": "f4553199-cd78-40f2-a6a1-5ecd29ced929",
   "metadata": {},
   "outputs": [],
   "source": [
    "# Filter before grouping\n",
    "df_pos = df[df['transformer_sentiment'] == 'positive']\n",
    "df_neg = df[df['transformer_sentiment'] == 'negative']\n"
   ]
  },
  {
   "cell_type": "code",
   "execution_count": 19,
   "id": "e5f49d1c-328f-4ec4-b38d-56a791b46c73",
   "metadata": {},
   "outputs": [
    {
     "data": {
      "text/html": [
       "<div>\n",
       "<style scoped>\n",
       "    .dataframe tbody tr th:only-of-type {\n",
       "        vertical-align: middle;\n",
       "    }\n",
       "\n",
       "    .dataframe tbody tr th {\n",
       "        vertical-align: top;\n",
       "    }\n",
       "\n",
       "    .dataframe thead th {\n",
       "        text-align: right;\n",
       "    }\n",
       "</style>\n",
       "<table border=\"1\" class=\"dataframe\">\n",
       "  <thead>\n",
       "    <tr style=\"text-align: right;\">\n",
       "      <th></th>\n",
       "      <th>date</th>\n",
       "      <th>likesCount</th>\n",
       "      <th>profileName</th>\n",
       "      <th>commentsCount</th>\n",
       "      <th>text</th>\n",
       "      <th>clean_text</th>\n",
       "      <th>topic</th>\n",
       "      <th>topic_prob</th>\n",
       "      <th>transformer_sentiment</th>\n",
       "      <th>month</th>\n",
       "    </tr>\n",
       "  </thead>\n",
       "  <tbody>\n",
       "    <tr>\n",
       "      <th>0</th>\n",
       "      <td>2022-09-07 17:12:32+00:00</td>\n",
       "      <td>2</td>\n",
       "      <td>4dca617d86b3fdce80ba7e81fb16e048c9cd9798cdfd6d...</td>\n",
       "      <td>NaN</td>\n",
       "      <td>Neat comparison I have not heard it before.\\n ...</td>\n",
       "      <td>neat comparison i have not heard it before\\n i...</td>\n",
       "      <td>0</td>\n",
       "      <td>1.00000</td>\n",
       "      <td>LABEL_1</td>\n",
       "      <td>2022-09</td>\n",
       "    </tr>\n",
       "    <tr>\n",
       "      <th>1</th>\n",
       "      <td>2022-09-08 14:51:13+00:00</td>\n",
       "      <td>0</td>\n",
       "      <td>518ab97f2d115ba5b6f03b2fba2ef2b120540c9681288b...</td>\n",
       "      <td>NaN</td>\n",
       "      <td>An excellent way to visualise the invisible! T...</td>\n",
       "      <td>an excellent way to visualise the invisible th...</td>\n",
       "      <td>0</td>\n",
       "      <td>1.00000</td>\n",
       "      <td>LABEL_2</td>\n",
       "      <td>2022-09</td>\n",
       "    </tr>\n",
       "    <tr>\n",
       "      <th>2</th>\n",
       "      <td>2022-09-07 17:19:41+00:00</td>\n",
       "      <td>1</td>\n",
       "      <td>d82e8e24eb633fd625b0aef9b3cb625cfb044ceb8483e1...</td>\n",
       "      <td>3.0</td>\n",
       "      <td>Does the CO2/ghg in the troposphere affect the...</td>\n",
       "      <td>does the coghg in the troposphere affect the s...</td>\n",
       "      <td>0</td>\n",
       "      <td>1.00000</td>\n",
       "      <td>LABEL_1</td>\n",
       "      <td>2022-09</td>\n",
       "    </tr>\n",
       "    <tr>\n",
       "      <th>3</th>\n",
       "      <td>2022-09-08 00:51:30+00:00</td>\n",
       "      <td>4</td>\n",
       "      <td>37a509fa0b5177a2233c7e2d0e2b2d6916695fa9fba3f2...</td>\n",
       "      <td>NaN</td>\n",
       "      <td>excellent post! I defo feel the difference - o...</td>\n",
       "      <td>excellent post i defo feel the difference  one...</td>\n",
       "      <td>0</td>\n",
       "      <td>1.00000</td>\n",
       "      <td>LABEL_2</td>\n",
       "      <td>2022-09</td>\n",
       "    </tr>\n",
       "    <tr>\n",
       "      <th>4</th>\n",
       "      <td>2022-09-07 19:06:20+00:00</td>\n",
       "      <td>16</td>\n",
       "      <td>e54fbbd42a729af9d04d9a5cc1f9bbfe8081a31c219ecb...</td>\n",
       "      <td>26.0</td>\n",
       "      <td>Yes, and carbon dioxide does not harm the Eart...</td>\n",
       "      <td>yes and carbon dioxide does not harm the earth...</td>\n",
       "      <td>0</td>\n",
       "      <td>0.96173</td>\n",
       "      <td>LABEL_0</td>\n",
       "      <td>2022-09</td>\n",
       "    </tr>\n",
       "  </tbody>\n",
       "</table>\n",
       "</div>"
      ],
      "text/plain": [
       "                       date  likesCount  \\\n",
       "0 2022-09-07 17:12:32+00:00           2   \n",
       "1 2022-09-08 14:51:13+00:00           0   \n",
       "2 2022-09-07 17:19:41+00:00           1   \n",
       "3 2022-09-08 00:51:30+00:00           4   \n",
       "4 2022-09-07 19:06:20+00:00          16   \n",
       "\n",
       "                                         profileName  commentsCount  \\\n",
       "0  4dca617d86b3fdce80ba7e81fb16e048c9cd9798cdfd6d...            NaN   \n",
       "1  518ab97f2d115ba5b6f03b2fba2ef2b120540c9681288b...            NaN   \n",
       "2  d82e8e24eb633fd625b0aef9b3cb625cfb044ceb8483e1...            3.0   \n",
       "3  37a509fa0b5177a2233c7e2d0e2b2d6916695fa9fba3f2...            NaN   \n",
       "4  e54fbbd42a729af9d04d9a5cc1f9bbfe8081a31c219ecb...           26.0   \n",
       "\n",
       "                                                text  \\\n",
       "0  Neat comparison I have not heard it before.\\n ...   \n",
       "1  An excellent way to visualise the invisible! T...   \n",
       "2  Does the CO2/ghg in the troposphere affect the...   \n",
       "3  excellent post! I defo feel the difference - o...   \n",
       "4  Yes, and carbon dioxide does not harm the Eart...   \n",
       "\n",
       "                                          clean_text  topic  topic_prob  \\\n",
       "0  neat comparison i have not heard it before\\n i...      0     1.00000   \n",
       "1  an excellent way to visualise the invisible th...      0     1.00000   \n",
       "2  does the coghg in the troposphere affect the s...      0     1.00000   \n",
       "3  excellent post i defo feel the difference  one...      0     1.00000   \n",
       "4  yes and carbon dioxide does not harm the earth...      0     0.96173   \n",
       "\n",
       "  transformer_sentiment    month  \n",
       "0               LABEL_1  2022-09  \n",
       "1               LABEL_2  2022-09  \n",
       "2               LABEL_1  2022-09  \n",
       "3               LABEL_2  2022-09  \n",
       "4               LABEL_0  2022-09  "
      ]
     },
     "execution_count": 19,
     "metadata": {},
     "output_type": "execute_result"
    }
   ],
   "source": [
    "df.head()"
   ]
  },
  {
   "cell_type": "code",
   "execution_count": null,
   "id": "e222cab3-4f63-4155-96d3-170a4e70915b",
   "metadata": {},
   "outputs": [],
   "source": []
  },
  {
   "cell_type": "code",
   "execution_count": null,
   "id": "9bb7ec2d-cdeb-4efb-931b-7b1330cae31b",
   "metadata": {},
   "outputs": [],
   "source": []
  },
  {
   "cell_type": "code",
   "execution_count": null,
   "id": "df8d0970-0750-4f75-8f18-58eca696be23",
   "metadata": {},
   "outputs": [],
   "source": []
  },
  {
   "cell_type": "code",
   "execution_count": null,
   "id": "a65f8209-7e3d-41e9-a1fa-2411c6088604",
   "metadata": {},
   "outputs": [],
   "source": []
  },
  {
   "cell_type": "code",
   "execution_count": 20,
   "id": "44aa88b3-1e4f-45e2-bf3e-8db7a282f5ce",
   "metadata": {},
   "outputs": [],
   "source": [
    "from bertopic import BERTopic\n",
    "\n",
    "topic_model = BERTopic(language=\"english\", min_topic_size=5)\n",
    "topics, probs = topic_model.fit_transform(df['clean_text'])\n"
   ]
  },
  {
   "cell_type": "code",
   "execution_count": 21,
   "id": "67f4735b-68cb-4af1-bd9e-df86f76063fd",
   "metadata": {},
   "outputs": [
    {
     "name": "stderr",
     "output_type": "stream",
     "text": [
      "2025-07-04 01:09:06,828 - BERTopic - WARNING: When you use `pickle` to save/load a BERTopic model,please make sure that the environments in which you saveand load the model are **exactly** the same. The version of BERTopic,its dependencies, and python need to remain the same.\n"
     ]
    },
    {
     "ename": "FileNotFoundError",
     "evalue": "[Errno 2] No such file or directory: 'model/topic_model.bin'",
     "output_type": "error",
     "traceback": [
      "\u001b[1;31m---------------------------------------------------------------------------\u001b[0m",
      "\u001b[1;31mFileNotFoundError\u001b[0m                         Traceback (most recent call last)",
      "Cell \u001b[1;32mIn[21], line 1\u001b[0m\n\u001b[1;32m----> 1\u001b[0m \u001b[43mtopic_model\u001b[49m\u001b[38;5;241;43m.\u001b[39;49m\u001b[43msave\u001b[49m\u001b[43m(\u001b[49m\u001b[38;5;124;43m\"\u001b[39;49m\u001b[38;5;124;43mmodel/topic_model.bin\u001b[39;49m\u001b[38;5;124;43m\"\u001b[39;49m\u001b[43m)\u001b[49m\n",
      "File \u001b[1;32mD:\\XAI\\lib\\site-packages\\bertopic\\_bertopic.py:3334\u001b[0m, in \u001b[0;36mBERTopic.save\u001b[1;34m(self, path, serialization, save_embedding_model, save_ctfidf)\u001b[0m\n\u001b[0;32m   3326\u001b[0m \u001b[38;5;28;01mif\u001b[39;00m serialization \u001b[38;5;241m==\u001b[39m \u001b[38;5;124m\"\u001b[39m\u001b[38;5;124mpickle\u001b[39m\u001b[38;5;124m\"\u001b[39m:\n\u001b[0;32m   3327\u001b[0m     logger\u001b[38;5;241m.\u001b[39mwarning(\n\u001b[0;32m   3328\u001b[0m         \u001b[38;5;124m\"\u001b[39m\u001b[38;5;124mWhen you use `pickle` to save/load a BERTopic model,\u001b[39m\u001b[38;5;124m\"\u001b[39m\n\u001b[0;32m   3329\u001b[0m         \u001b[38;5;124m\"\u001b[39m\u001b[38;5;124mplease make sure that the environments in which you save\u001b[39m\u001b[38;5;124m\"\u001b[39m\n\u001b[0;32m   3330\u001b[0m         \u001b[38;5;124m\"\u001b[39m\u001b[38;5;124mand load the model are **exactly** the same. The version of BERTopic,\u001b[39m\u001b[38;5;124m\"\u001b[39m\n\u001b[0;32m   3331\u001b[0m         \u001b[38;5;124m\"\u001b[39m\u001b[38;5;124mits dependencies, and python need to remain the same.\u001b[39m\u001b[38;5;124m\"\u001b[39m\n\u001b[0;32m   3332\u001b[0m     )\n\u001b[1;32m-> 3334\u001b[0m     \u001b[38;5;28;01mwith\u001b[39;00m \u001b[38;5;28;43mopen\u001b[39;49m\u001b[43m(\u001b[49m\u001b[43mpath\u001b[49m\u001b[43m,\u001b[49m\u001b[43m \u001b[49m\u001b[38;5;124;43m\"\u001b[39;49m\u001b[38;5;124;43mwb\u001b[39;49m\u001b[38;5;124;43m\"\u001b[39;49m\u001b[43m)\u001b[49m \u001b[38;5;28;01mas\u001b[39;00m file:\n\u001b[0;32m   3335\u001b[0m         \u001b[38;5;66;03m# This prevents the vectorizer from being too large in size if `min_df` was\u001b[39;00m\n\u001b[0;32m   3336\u001b[0m         \u001b[38;5;66;03m# set to a value higher than 1\u001b[39;00m\n\u001b[0;32m   3337\u001b[0m         \u001b[38;5;28mself\u001b[39m\u001b[38;5;241m.\u001b[39mvectorizer_model\u001b[38;5;241m.\u001b[39mstop_words_ \u001b[38;5;241m=\u001b[39m \u001b[38;5;28;01mNone\u001b[39;00m\n\u001b[0;32m   3339\u001b[0m         \u001b[38;5;28;01mif\u001b[39;00m \u001b[38;5;129;01mnot\u001b[39;00m save_embedding_model:\n",
      "\u001b[1;31mFileNotFoundError\u001b[0m: [Errno 2] No such file or directory: 'model/topic_model.bin'"
     ]
    }
   ],
   "source": [
    "topic_model.save(\"model/topic_model.bin\")\n"
   ]
  },
  {
   "cell_type": "code",
   "execution_count": 23,
   "id": "2b4bf57f-2369-40c5-bfb6-9a4607b7db0f",
   "metadata": {},
   "outputs": [],
   "source": [
    "from sklearn.feature_extraction.text import TfidfVectorizer\n",
    "from sklearn.cluster import KMeans\n",
    "import pandas as pd"
   ]
  },
  {
   "cell_type": "code",
   "execution_count": 24,
   "id": "e58d99aa-5f76-4227-be08-1889de9859ec",
   "metadata": {},
   "outputs": [],
   "source": [
    "df = pd.read_csv(\"nasa_sentiment_output.csv\")"
   ]
  },
  {
   "cell_type": "code",
   "execution_count": 25,
   "id": "00396159-2c98-4415-8731-2719131b5f7b",
   "metadata": {},
   "outputs": [
    {
     "data": {
      "text/html": [
       "<div>\n",
       "<style scoped>\n",
       "    .dataframe tbody tr th:only-of-type {\n",
       "        vertical-align: middle;\n",
       "    }\n",
       "\n",
       "    .dataframe tbody tr th {\n",
       "        vertical-align: top;\n",
       "    }\n",
       "\n",
       "    .dataframe thead th {\n",
       "        text-align: right;\n",
       "    }\n",
       "</style>\n",
       "<table border=\"1\" class=\"dataframe\">\n",
       "  <thead>\n",
       "    <tr style=\"text-align: right;\">\n",
       "      <th></th>\n",
       "      <th>date</th>\n",
       "      <th>likesCount</th>\n",
       "      <th>profileName</th>\n",
       "      <th>commentsCount</th>\n",
       "      <th>text</th>\n",
       "      <th>clean_text</th>\n",
       "      <th>topic</th>\n",
       "      <th>topic_prob</th>\n",
       "      <th>transformer_sentiment</th>\n",
       "    </tr>\n",
       "  </thead>\n",
       "  <tbody>\n",
       "    <tr>\n",
       "      <th>0</th>\n",
       "      <td>2022-09-07T17:12:32.000Z</td>\n",
       "      <td>2</td>\n",
       "      <td>4dca617d86b3fdce80ba7e81fb16e048c9cd9798cdfd6d...</td>\n",
       "      <td>NaN</td>\n",
       "      <td>Neat comparison I have not heard it before.\\n ...</td>\n",
       "      <td>neat comparison i have not heard it before\\n i...</td>\n",
       "      <td>0</td>\n",
       "      <td>1.0</td>\n",
       "      <td>LABEL_1</td>\n",
       "    </tr>\n",
       "    <tr>\n",
       "      <th>1</th>\n",
       "      <td>2022-09-08T14:51:13.000Z</td>\n",
       "      <td>0</td>\n",
       "      <td>518ab97f2d115ba5b6f03b2fba2ef2b120540c9681288b...</td>\n",
       "      <td>NaN</td>\n",
       "      <td>An excellent way to visualise the invisible! T...</td>\n",
       "      <td>an excellent way to visualise the invisible th...</td>\n",
       "      <td>0</td>\n",
       "      <td>1.0</td>\n",
       "      <td>LABEL_2</td>\n",
       "    </tr>\n",
       "    <tr>\n",
       "      <th>2</th>\n",
       "      <td>2022-09-07T17:19:41.000Z</td>\n",
       "      <td>1</td>\n",
       "      <td>d82e8e24eb633fd625b0aef9b3cb625cfb044ceb8483e1...</td>\n",
       "      <td>3.0</td>\n",
       "      <td>Does the CO2/ghg in the troposphere affect the...</td>\n",
       "      <td>does the coghg in the troposphere affect the s...</td>\n",
       "      <td>0</td>\n",
       "      <td>1.0</td>\n",
       "      <td>LABEL_1</td>\n",
       "    </tr>\n",
       "    <tr>\n",
       "      <th>3</th>\n",
       "      <td>2022-09-08T00:51:30.000Z</td>\n",
       "      <td>4</td>\n",
       "      <td>37a509fa0b5177a2233c7e2d0e2b2d6916695fa9fba3f2...</td>\n",
       "      <td>NaN</td>\n",
       "      <td>excellent post! I defo feel the difference - o...</td>\n",
       "      <td>excellent post i defo feel the difference  one...</td>\n",
       "      <td>0</td>\n",
       "      <td>1.0</td>\n",
       "      <td>LABEL_2</td>\n",
       "    </tr>\n",
       "    <tr>\n",
       "      <th>4</th>\n",
       "      <td>2022-09-07T19:06:20.000Z</td>\n",
       "      <td>16</td>\n",
       "      <td>e54fbbd42a729af9d04d9a5cc1f9bbfe8081a31c219ecb...</td>\n",
       "      <td>26.0</td>\n",
       "      <td>Yes, and carbon dioxide does not harm the Eart...</td>\n",
       "      <td>yes and carbon dioxide does not harm the earth...</td>\n",
       "      <td>0</td>\n",
       "      <td>1.0</td>\n",
       "      <td>LABEL_0</td>\n",
       "    </tr>\n",
       "  </tbody>\n",
       "</table>\n",
       "</div>"
      ],
      "text/plain": [
       "                       date  likesCount  \\\n",
       "0  2022-09-07T17:12:32.000Z           2   \n",
       "1  2022-09-08T14:51:13.000Z           0   \n",
       "2  2022-09-07T17:19:41.000Z           1   \n",
       "3  2022-09-08T00:51:30.000Z           4   \n",
       "4  2022-09-07T19:06:20.000Z          16   \n",
       "\n",
       "                                         profileName  commentsCount  \\\n",
       "0  4dca617d86b3fdce80ba7e81fb16e048c9cd9798cdfd6d...            NaN   \n",
       "1  518ab97f2d115ba5b6f03b2fba2ef2b120540c9681288b...            NaN   \n",
       "2  d82e8e24eb633fd625b0aef9b3cb625cfb044ceb8483e1...            3.0   \n",
       "3  37a509fa0b5177a2233c7e2d0e2b2d6916695fa9fba3f2...            NaN   \n",
       "4  e54fbbd42a729af9d04d9a5cc1f9bbfe8081a31c219ecb...           26.0   \n",
       "\n",
       "                                                text  \\\n",
       "0  Neat comparison I have not heard it before.\\n ...   \n",
       "1  An excellent way to visualise the invisible! T...   \n",
       "2  Does the CO2/ghg in the troposphere affect the...   \n",
       "3  excellent post! I defo feel the difference - o...   \n",
       "4  Yes, and carbon dioxide does not harm the Eart...   \n",
       "\n",
       "                                          clean_text  topic  topic_prob  \\\n",
       "0  neat comparison i have not heard it before\\n i...      0         1.0   \n",
       "1  an excellent way to visualise the invisible th...      0         1.0   \n",
       "2  does the coghg in the troposphere affect the s...      0         1.0   \n",
       "3  excellent post i defo feel the difference  one...      0         1.0   \n",
       "4  yes and carbon dioxide does not harm the earth...      0         1.0   \n",
       "\n",
       "  transformer_sentiment  \n",
       "0               LABEL_1  \n",
       "1               LABEL_2  \n",
       "2               LABEL_1  \n",
       "3               LABEL_2  \n",
       "4               LABEL_0  "
      ]
     },
     "execution_count": 25,
     "metadata": {},
     "output_type": "execute_result"
    }
   ],
   "source": [
    "df.head()"
   ]
  },
  {
   "cell_type": "code",
   "execution_count": 26,
   "id": "95a4b10a-8a16-4e53-9bed-c56d516cf9fe",
   "metadata": {},
   "outputs": [
    {
     "data": {
      "text/plain": [
       "date                       0\n",
       "likesCount                 0\n",
       "profileName                0\n",
       "commentsCount            278\n",
       "text                      18\n",
       "clean_text                29\n",
       "topic                      0\n",
       "topic_prob                 0\n",
       "transformer_sentiment      0\n",
       "dtype: int64"
      ]
     },
     "execution_count": 26,
     "metadata": {},
     "output_type": "execute_result"
    }
   ],
   "source": [
    "df.isnull().sum()"
   ]
  },
  {
   "cell_type": "code",
   "execution_count": 28,
   "id": "825ac318-22ed-4591-b71f-f3e2c08f1b53",
   "metadata": {},
   "outputs": [
    {
     "data": {
      "text/plain": [
       "(522, 9)"
      ]
     },
     "execution_count": 28,
     "metadata": {},
     "output_type": "execute_result"
    }
   ],
   "source": [
    "df.shape"
   ]
  },
  {
   "cell_type": "code",
   "execution_count": 29,
   "id": "bc16a82e-f698-4e1a-9924-f16d176c5e7d",
   "metadata": {},
   "outputs": [],
   "source": [
    "df=df.dropna()"
   ]
  },
  {
   "cell_type": "code",
   "execution_count": 30,
   "id": "8a001bf8-aea7-4aa8-a6c0-92bb3ea47787",
   "metadata": {},
   "outputs": [
    {
     "data": {
      "text/plain": [
       "(241, 9)"
      ]
     },
     "execution_count": 30,
     "metadata": {},
     "output_type": "execute_result"
    }
   ],
   "source": [
    "df.shape"
   ]
  },
  {
   "cell_type": "code",
   "execution_count": 31,
   "id": "833e5436-ce5c-4747-9947-3c20fc55fdef",
   "metadata": {},
   "outputs": [
    {
     "data": {
      "text/plain": [
       "date                     0\n",
       "likesCount               0\n",
       "profileName              0\n",
       "commentsCount            0\n",
       "text                     0\n",
       "clean_text               0\n",
       "topic                    0\n",
       "topic_prob               0\n",
       "transformer_sentiment    0\n",
       "dtype: int64"
      ]
     },
     "execution_count": 31,
     "metadata": {},
     "output_type": "execute_result"
    }
   ],
   "source": [
    "df.isnull().sum()"
   ]
  },
  {
   "cell_type": "code",
   "execution_count": 32,
   "id": "ef4d4004-3ee4-40e8-bb56-eaf54fd6af01",
   "metadata": {},
   "outputs": [],
   "source": [
    "# Vectorize\n",
    "vectorizer = TfidfVectorizer(max_features=1000, stop_words='english')\n",
    "X = vectorizer.fit_transform(df['clean_text'])"
   ]
  },
  {
   "cell_type": "code",
   "execution_count": 33,
   "id": "afbea483-9489-4b71-82f5-de8bea4aefa2",
   "metadata": {},
   "outputs": [
    {
     "name": "stderr",
     "output_type": "stream",
     "text": [
      "  File \"D:\\XAI\\lib\\site-packages\\joblib\\externals\\loky\\backend\\context.py\", line 257, in _count_physical_cores\n",
      "    cpu_info = subprocess.run(\n",
      "  File \"C:\\Users\\Venkatesh\\AppData\\Local\\Programs\\Python\\Python310\\lib\\subprocess.py\", line 501, in run\n",
      "    with Popen(*popenargs, **kwargs) as process:\n",
      "  File \"C:\\Users\\Venkatesh\\AppData\\Local\\Programs\\Python\\Python310\\lib\\subprocess.py\", line 966, in __init__\n",
      "    self._execute_child(args, executable, preexec_fn, close_fds,\n",
      "  File \"C:\\Users\\Venkatesh\\AppData\\Local\\Programs\\Python\\Python310\\lib\\subprocess.py\", line 1435, in _execute_child\n",
      "    hp, ht, pid, tid = _winapi.CreateProcess(executable, args,\n"
     ]
    }
   ],
   "source": [
    "\n",
    "# Cluster into topics\n",
    "kmeans = KMeans(n_clusters=5, random_state=42)\n",
    "df['topic'] = kmeans.fit_predict(X)"
   ]
  },
  {
   "cell_type": "code",
   "execution_count": 34,
   "id": "ffa77152-2c4a-47e4-8d3b-e5f2aff77010",
   "metadata": {},
   "outputs": [],
   "source": [
    "# Top words per topic\n",
    "def get_top_words(model, vectorizer, n_words=10):\n",
    "    terms = vectorizer.get_feature_names_out()\n",
    "    return {\n",
    "        i: [terms[ind] for ind in model.cluster_centers_[i].argsort()[-n_words:][::-1]]\n",
    "        for i in range(model.n_clusters)\n",
    "    }\n",
    "\n",
    "top_words = get_top_words(kmeans, vectorizer)\n"
   ]
  },
  {
   "cell_type": "code",
   "execution_count": 35,
   "id": "b45c848d-69d3-4dd7-ab94-06209c173bf9",
   "metadata": {},
   "outputs": [
    {
     "data": {
      "text/plain": [
       "{0: ['climate',\n",
       "  'change',\n",
       "  'dont',\n",
       "  'think',\n",
       "  'understand',\n",
       "  'nasa',\n",
       "  'agree',\n",
       "  'data',\n",
       "  'people',\n",
       "  'real'],\n",
       " 1: ['temperature',\n",
       "  'time',\n",
       "  'years',\n",
       "  'graph',\n",
       "  'year',\n",
       "  'global',\n",
       "  'planet',\n",
       "  'earth',\n",
       "  'difference',\n",
       "  'reason'],\n",
       " 2: ['nasa',\n",
       "  'science',\n",
       "  'good',\n",
       "  'say',\n",
       "  'like',\n",
       "  'years',\n",
       "  'bye',\n",
       "  'im',\n",
       "  'climate',\n",
       "  'change'],\n",
       " 3: ['global',\n",
       "  'warming',\n",
       "  'earth',\n",
       "  'happened',\n",
       "  'years',\n",
       "  'people',\n",
       "  'weather',\n",
       "  'ice',\n",
       "  'hemisphere',\n",
       "  'start'],\n",
       " 4: ['data',\n",
       "  'make',\n",
       "  'post',\n",
       "  'historical',\n",
       "  'terms',\n",
       "  'years',\n",
       "  'interesting',\n",
       "  'map',\n",
       "  'trying',\n",
       "  'nasa']}"
      ]
     },
     "execution_count": 35,
     "metadata": {},
     "output_type": "execute_result"
    }
   ],
   "source": [
    "top_words"
   ]
  },
  {
   "cell_type": "code",
   "execution_count": null,
   "id": "1dfa92ed-cd10-491b-9532-eca233671713",
   "metadata": {},
   "outputs": [],
   "source": []
  }
 ],
 "metadata": {
  "kernelspec": {
   "display_name": "Python 3 (ipykernel)",
   "language": "python",
   "name": "python3"
  },
  "language_info": {
   "codemirror_mode": {
    "name": "ipython",
    "version": 3
   },
   "file_extension": ".py",
   "mimetype": "text/x-python",
   "name": "python",
   "nbconvert_exporter": "python",
   "pygments_lexer": "ipython3",
   "version": "3.10.0"
  }
 },
 "nbformat": 4,
 "nbformat_minor": 5
}
